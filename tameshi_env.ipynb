{
 "cells": [
  {
   "cell_type": "code",
   "execution_count": 54,
   "id": "middle-roman",
   "metadata": {},
   "outputs": [],
   "source": [
    "import sys, time, math, copy\n",
    "import numpy as np\n",
    "import gym\n",
    "from gym import spaces, logger\n",
    "from gym.utils import seeding\n",
    "\n",
    "from robo_gym.utils.exceptions import InvalidStateError, RobotServerError\n",
    "import robo_gym_server_modules.robot_server.client as rs_client\n",
    "from robo_gym.envs.simulation_wrapper import Simulation\n",
    "from robo_gym_server_modules.robot_server.grpc_msgs.python import robot_server_pb2\n",
    "\n",
    "from typing import List"
   ]
  },
  {
   "cell_type": "code",
   "execution_count": 59,
   "id": "lesbian-norway",
   "metadata": {},
   "outputs": [],
   "source": [
    "class Mir100Env(gym.Env):\n",
    "    real_robot = False\n",
    "    map_size = 256\n",
    "    resolution = 0.05\n",
    "    \n",
    "    def __init__(self, rs_address=None, max_episode_steps=500, **kwargs):\n",
    "        self.mir100 = mir100_util.Mir100()\n",
    "        self.max_episde_steps = max_episode_steps\n",
    "        self.elapsed_steps = 0\n",
    "        self.observation_space = self._get_observation_space()\n",
    "        half = self.map_size*self.resolution/2\n",
    "\n",
    "        self.action_space = spaces.Dict({\n",
    "            'position': spaces.Box(low=-half, high=half, shape=(2,), dtype=np.float32),\n",
    "            'orientation': spaces.Box(low=0, high=np.pi*2, dtype=np.float32)\n",
    "        })\n",
    "        self.seed()\n",
    "        self.distance_threshold = 0.2\n",
    "        self.min_target_dist = 1.0\n",
    "        \n",
    "        # Connect to Robot Server\n",
    "        if rs_address:\n",
    "            self.client = rs_client.Client(rs_address)\n",
    "        else:\n",
    "            print(\"WARNING: No IP and Port passed. Simulation will not be started\")\n",
    "            print(\"WARNING: Use this only to get environment shape\")\n",
    "            \n",
    "    def seed(self, seed=None):\n",
    "        self.np_random, seed = seeding.np_random(seed)\n",
    "        return [seed]\n",
    "    \n",
    "    def reset(self, \n",
    "              obstacle_count: int=10, \n",
    "              obstacle_size: float=0.7, \n",
    "              target_size: float=0.2, \n",
    "              room_length_max: float=9.0, \n",
    "              room_mass_min: float=20.0, \n",
    "              room_mass_max: float=36.0, \n",
    "              room_wall_height: float=0.8, \n",
    "              room_wall_thickness: float=0.05,\n",
    "              target_poses:List[List[float]]=None):\n",
    "        \n",
    "        self.elapsed_steps = 0\n",
    "        self.prev_base_reward = None\n",
    "        \n",
    "        # Initialize environment state\n",
    "        self.state = np.zeros(self._get_env_state_len())\n",
    "        rs_state = np.zeros(self._get_robot_server_state_len())\n",
    "        \n",
    "        # Set Robot starting position\n",
    "        \n",
    "        "
   ]
  },
  {
   "cell_type": "code",
   "execution_count": 44,
   "id": "medieval-projection",
   "metadata": {},
   "outputs": [
    {
     "data": {
      "text/plain": [
       "Box(-10.0, 10.0, (2,), float32)"
      ]
     },
     "execution_count": 44,
     "metadata": {},
     "output_type": "execute_result"
    }
   ],
   "source": [
    "gym.spaces.Box(low=-10,high=10, shape=(2,))"
   ]
  },
  {
   "cell_type": "code",
   "execution_count": null,
   "id": "distant-strand",
   "metadata": {},
   "outputs": [],
   "source": []
  },
  {
   "cell_type": "code",
   "execution_count": null,
   "id": "registered-preliminary",
   "metadata": {},
   "outputs": [],
   "source": []
  }
 ],
 "metadata": {
  "kernelspec": {
   "display_name": "Python 3",
   "language": "python",
   "name": "python3"
  },
  "language_info": {
   "codemirror_mode": {
    "name": "ipython",
    "version": 3
   },
   "file_extension": ".py",
   "mimetype": "text/x-python",
   "name": "python",
   "nbconvert_exporter": "python",
   "pygments_lexer": "ipython3",
   "version": "3.6.9"
  }
 },
 "nbformat": 4,
 "nbformat_minor": 5
}
