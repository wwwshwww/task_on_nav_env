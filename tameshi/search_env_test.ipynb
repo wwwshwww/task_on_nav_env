{
 "cells": [
  {
   "cell_type": "code",
   "execution_count": 1,
   "id": "novel-confidence",
   "metadata": {},
   "outputs": [],
   "source": [
    "import gym\n",
    "import robo_gym\n",
    "from robo_gym.wrappers.exception_handling import ExceptionHandling\n",
    "\n",
    "import numpy as np"
   ]
  },
  {
   "cell_type": "code",
   "execution_count": 2,
   "id": "aggressive-disorder",
   "metadata": {},
   "outputs": [
    {
     "name": "stdout",
     "output_type": "stream",
     "text": [
      "Starting new Robot Server | Tentative 1\n",
      "Successfully started Robot Server at localhost:38219\n"
     ]
    },
    {
     "name": "stderr",
     "output_type": "stream",
     "text": [
      "/usr/local/lib/python3.6/dist-packages/gym/logger.py:30: UserWarning: \u001b[33mWARN: Box bound precision lowered by casting to float32\u001b[0m\n",
      "  warnings.warn(colorize('%s: %s'%('WARN', msg % args), 'yellow'))\n"
     ]
    }
   ],
   "source": [
    "target_machine_ip = 'localhost' # or other machine 'xxx.xxx.xxx.xxx'\n",
    "\n",
    "# initialize environment\n",
    "env = gym.make('CubeRoomSearch-v0', ip=target_machine_ip, gui=True)\n",
    "env = ExceptionHandling(env)\n",
    "\n",
    "state = env.reset(**{'new_room': True, 'new_agent_pose': True})"
   ]
  },
  {
   "cell_type": "code",
   "execution_count": 3,
   "id": "apparent-birthday",
   "metadata": {},
   "outputs": [
    {
     "data": {
      "text/plain": [
       "{'occupancy_grid': array([-1, -1, -1, ..., -1, -1, -1], dtype=int16),\n",
       " 'agent_pose': array([4.44089210e-16, 1.57079633e+00, 0.00000000e+00])}"
      ]
     },
     "execution_count": 3,
     "metadata": {},
     "output_type": "execute_result"
    }
   ],
   "source": [
    "state = env.reset(**{'new_room': False, 'new_agent_pose': True})\n",
    "state"
   ]
  },
  {
   "cell_type": "code",
   "execution_count": 14,
   "id": "median-psychology",
   "metadata": {},
   "outputs": [
    {
     "name": "stdout",
     "output_type": "stream",
     "text": [
      "0\n"
     ]
    }
   ],
   "source": [
    "action = env.action_space.sample()\n",
    "state, reward, done, info = env.step(action)\n",
    "print(reward)"
   ]
  },
  {
   "cell_type": "code",
   "execution_count": 18,
   "id": "thorough-vessel",
   "metadata": {},
   "outputs": [
    {
     "name": "stdout",
     "output_type": "stream",
     "text": [
      "[[-0.76538599  3.84462726]\n",
      " [-6.14295673 -1.39294076]\n",
      " [-2.58787169  3.39870775]\n",
      " [ 0.00805902  4.38225985]\n",
      " [ 0.17289186  0.88588595]\n",
      " [-3.83231199  3.60470295]\n",
      " [-6.10508347 -0.29207921]\n",
      " [-2.23973301  1.38971716]\n",
      " [ 1.20289803  2.60574287]\n",
      " [-2.80589673  4.24527049]\n",
      " [-3.85072112 -0.32181811]\n",
      " [ 0.13439441  2.23059876]\n",
      " [-5.30634093  1.9589714 ]\n",
      " [-3.99257386  0.90105999]]\n"
     ]
    }
   ],
   "source": [
    "print(env.target_pose[:,:2] - env.agent_pose[:2])"
   ]
  },
  {
   "cell_type": "code",
   "execution_count": null,
   "id": "premium-handy",
   "metadata": {},
   "outputs": [],
   "source": []
  }
 ],
 "metadata": {
  "kernelspec": {
   "display_name": "Python 3",
   "language": "python",
   "name": "python3"
  },
  "language_info": {
   "codemirror_mode": {
    "name": "ipython",
    "version": 3
   },
   "file_extension": ".py",
   "mimetype": "text/x-python",
   "name": "python",
   "nbconvert_exporter": "python",
   "pygments_lexer": "ipython3",
   "version": "3.6.9"
  }
 },
 "nbformat": 4,
 "nbformat_minor": 5
}
