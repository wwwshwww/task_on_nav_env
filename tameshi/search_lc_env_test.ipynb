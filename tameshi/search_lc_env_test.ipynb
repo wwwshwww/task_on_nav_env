{
 "cells": [
  {
   "cell_type": "code",
   "execution_count": 1,
   "id": "utility-boundary",
   "metadata": {},
   "outputs": [],
   "source": [
    "import gym\n",
    "import robo_gym\n",
    "from robo_gym.wrappers.exception_handling import ExceptionHandling\n",
    "\n",
    "import numpy as np"
   ]
  },
  {
   "cell_type": "code",
   "execution_count": 2,
   "id": "verified-encounter",
   "metadata": {},
   "outputs": [
    {
     "name": "stdout",
     "output_type": "stream",
     "text": [
      "Starting new Robot Server | Tentative 1\n",
      "<class 'server_manager_pb2.RobotServer'>\n",
      "True \n",
      "Successfully started Robot Server at localhost:45783\n"
     ]
    },
    {
     "name": "stderr",
     "output_type": "stream",
     "text": [
      "/usr/local/lib/python3.6/dist-packages/gym/logger.py:30: UserWarning: \u001b[33mWARN: Box bound precision lowered by casting to float32\u001b[0m\n",
      "  warnings.warn(colorize('%s: %s'%('WARN', msg % args), 'yellow'))\n"
     ]
    }
   ],
   "source": [
    "target_machine_ip = 'localhost' # or other machine 'xxx.xxx.xxx.xxx'\n",
    "\n",
    "# initialize environment\n",
    "env = gym.make('CubeRoomSearchLikeContinuously-v0', ip=target_machine_ip, gui=True, max_episode_steps=30)\n",
    "env = ExceptionHandling(env)\n",
    "\n",
    "state = env.reset()"
   ]
  },
  {
   "cell_type": "code",
   "execution_count": 5,
   "id": "mysterious-finance",
   "metadata": {},
   "outputs": [
    {
     "name": "stdout",
     "output_type": "stream",
     "text": [
      "-0.05\n",
      "-0.05\n",
      "0.0\n",
      "-0.05\n",
      "0.0\n",
      "-0.05\n",
      "-0.05\n",
      "-0.05\n",
      "0.0\n",
      "-0.05\n",
      "-0.35 {}\n"
     ]
    }
   ],
   "source": [
    "total_reward = 0\n",
    "done = False\n",
    "for _ in range(10):\n",
    "    # random step in the environment\n",
    "    state, reward, done, info = env.step(env.action_space.sample())\n",
    "    print(reward)\n",
    "    total_reward += reward\n",
    "    \n",
    "print(total_reward, info)"
   ]
  },
  {
   "cell_type": "code",
   "execution_count": 7,
   "id": "ongoing-acoustic",
   "metadata": {},
   "outputs": [],
   "source": [
    "for _ in range(10):\n",
    "    env.reset(new_agent_pose=True)"
   ]
  },
  {
   "cell_type": "code",
   "execution_count": 9,
   "id": "external-cisco",
   "metadata": {},
   "outputs": [],
   "source": [
    "state = env.reset(new_agent_pose=True)"
   ]
  },
  {
   "cell_type": "code",
   "execution_count": 19,
   "id": "ceramic-bridge",
   "metadata": {},
   "outputs": [
    {
     "name": "stdout",
     "output_type": "stream",
     "text": [
      "0.0\n"
     ]
    }
   ],
   "source": [
    "state, reward, done, info = env.step(env.action_space.sample())\n",
    "print(reward)"
   ]
  },
  {
   "cell_type": "code",
   "execution_count": 28,
   "id": "selective-monkey",
   "metadata": {},
   "outputs": [
    {
     "name": "stdout",
     "output_type": "stream",
     "text": [
      "{-1: 16011, 0: 288, 100: 85}\n",
      "{0: 85, 128: 16011, 255: 288}\n"
     ]
    },
    {
     "data": {
      "text/plain": [
       "<matplotlib.image.AxesImage at 0x7f470e627b00>"
      ]
     },
     "execution_count": 28,
     "metadata": {},
     "output_type": "execute_result"
    },
    {
     "data": {
      "image/png": "[encoded data removed]",
      "text/plain": [
       "<Figure size 504x504 with 1 Axes>"
      ]
     },
     "metadata": {
      "needs_background": "light"
     },
     "output_type": "display_data"
    }
   ],
   "source": [
    "import numpy as np\n",
    "import matplotlib.pyplot as plt\n",
    "from pylab import rcParams\n",
    "\n",
    "rcParams['figure.figsize'] = 7,7\n",
    "\n",
    "o = np.array(state['occupancy_grid'], dtype=np.int16)\n",
    "unique, counts = np.unique(o, return_counts=True)\n",
    "print(dict(zip(unique, counts)))\n",
    "\n",
    "o[o == 0] = 255\n",
    "o[o == 100] = 0\n",
    "o[o == -1] = 128\n",
    "unique, counts = np.unique(o, return_counts=True)\n",
    "print(dict(zip(unique, counts)))\n",
    "img = o.reshape((128,128)).T\n",
    "plt.imshow(img, cmap='gray') "
   ]
  },
  {
   "cell_type": "code",
   "execution_count": null,
   "id": "prospective-abuse",
   "metadata": {},
   "outputs": [],
   "source": []
  }
 ],
 "metadata": {
  "kernelspec": {
   "display_name": "Python 3",
   "language": "python",
   "name": "python3"
  },
  "language_info": {
   "codemirror_mode": {
    "name": "ipython",
    "version": 3
   },
   "file_extension": ".py",
   "mimetype": "text/x-python",
   "name": "python",
   "nbconvert_exporter": "python",
   "pygments_lexer": "ipython3",
   "version": "3.6.9"
  }
 },
 "nbformat": 4,
 "nbformat_minor": 5
}
