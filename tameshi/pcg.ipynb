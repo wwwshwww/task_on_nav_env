{
 "cells": [
  {
   "cell_type": "code",
   "execution_count": 7,
   "metadata": {},
   "outputs": [],
   "source": [
    "\n",
    "import trimesh\n",
    "from matplotlib import pyplot as plt\n",
    "from pcg_gazebo.simulation.properties import Mesh\n",
    "from pcg_gazebo.simulation import create_object, SimulationModel"
   ]
  },
  {
   "cell_type": "code",
   "execution_count": 15,
   "metadata": {},
   "outputs": [],
   "source": [
    "from pcg_gazebo.task_manager import GazeboProxy\n",
    "\n",
    "import numpy as np\n",
    "\n",
    "TARGET_SIM = dict(\n",
    "    ros_host='localhost',\n",
    "    ros_port=11311,\n",
    "    gazebo_host='localhost',\n",
    "    gazebo_port=11345\n",
    ")\n",
    "\n",
    "gazebo_proxy = GazeboProxy(**TARGET_SIM)"
   ]
  },
  {
   "cell_type": "code",
   "execution_count": 26,
   "metadata": {},
   "outputs": [
    {
     "data": {
      "text/plain": [
       "True"
      ]
     },
     "execution_count": 26,
     "metadata": {},
     "output_type": "execute_result"
    }
   ],
   "source": [
    "from pcg_gazebo.simulation import SimulationModel\n",
    "\n",
    "obj = SimulationModel('box')\n",
    "\n",
    "# By changing the size, collision, visual and inertial \n",
    "# properties are already going to be updated\n",
    "obj.add_cuboid_link(\n",
    "    link_name='link',\n",
    "    size=[0.8, 0.7, 0.9],\n",
    "    mass=30)\n",
    "\n",
    "obj.spawn(gazebo_proxy=gazebo_proxy, pos=[1,1,0], reference_frame='world')"
   ]
  },
  {
   "cell_type": "code",
   "execution_count": 8,
   "metadata": {},
   "outputs": [
    {
     "name": "stdout",
     "output_type": "stream",
     "text": [
      "<model name=\"box\">\n",
      "  <allow_auto_disable>0</allow_auto_disable>\n",
      "  <static>0</static>\n",
      "  <pose frame=\"\">0 0 0 0 -0 0</pose>\n",
      "  <link name=\"box\">\n",
      "    <kinematic>0</kinematic>\n",
      "    <inertial>\n",
      "      <pose frame=\"\">0 0 0 0 -0 0</pose>\n",
      "      <mass>0.1</mass>\n",
      "      <inertia>\n",
      "        <ixz>0.0</ixz>\n",
      "        <ixx>0.087</ixx>\n",
      "        <ixy>0.0</ixy>\n",
      "        <izz>0.0453333333333</izz>\n",
      "        <iyy>0.108333333333</iyy>\n",
      "        <iyz>0.0</iyz>\n",
      "      </inertia>\n",
      "    </inertial>\n",
      "    <pose frame=\"\">0 0 0 0 -0 0</pose>\n",
      "    <gravity>1</gravity>\n",
      "    <self_collide>0</self_collide>\n",
      "    <collision name=\"collision\">\n",
      "      <geometry>\n",
      "        <box>\n",
      "          <size>2 1.2 3</size>\n",
      "        </box>\n",
      "      </geometry>\n",
      "      <pose frame=\"\">0 0 0 0 -0 0</pose>\n",
      "    </collision>\n",
      "    <visual name=\"visual\">\n",
      "      <geometry>\n",
      "        <box>\n",
      "          <size>2 1.2 3</size>\n",
      "        </box>\n",
      "      </geometry>\n",
      "      <pose frame=\"\">0 0 0 0 -0 0</pose>\n",
      "      <cast_shadows>1</cast_shadows>\n",
      "      <transparency>0.0</transparency>\n",
      "    </visual>\n",
      "  </link>\n",
      "  <self_collide>0</self_collide>\n",
      "</model>\n",
      "\n"
     ]
    }
   ],
   "source": [
    "# Create model\n",
    "model = SimulationModel('box')\n",
    "\n",
    "# Create box link\n",
    "model.add_cuboid_link('box', mass=0.1, size=[2, 1.2, 3])\n",
    "\n",
    "print(model.to_sdf('model'))"
   ]
  },
  {
   "cell_type": "code",
   "execution_count": null,
   "metadata": {},
   "outputs": [],
   "source": []
  }
 ],
 "metadata": {
  "kernelspec": {
   "display_name": "Python 2",
   "language": "python",
   "name": "python2"
  },
  "language_info": {
   "codemirror_mode": {
    "name": "ipython",
    "version": 2
   },
   "file_extension": ".py",
   "mimetype": "text/x-python",
   "name": "python",
   "nbconvert_exporter": "python",
   "pygments_lexer": "ipython2",
   "version": "2.7.17"
  }
 },
 "nbformat": 4,
 "nbformat_minor": 2
}
