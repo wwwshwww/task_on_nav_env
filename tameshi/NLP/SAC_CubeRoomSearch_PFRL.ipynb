{
 "cells": [
  {
   "cell_type": "markdown",
   "id": "suburban-schedule",
   "metadata": {},
   "source": [
    "## Soft Actor Critic\n",
    "\n",
    "ref: \n",
    "\n",
    "- https://pfrl.readthedocs.io/en/latest/agents.html\n",
    "- https://github.com/pfnet/pfrl/blob/master/examples/mujoco/reproduction/soft_actor_critic/train_soft_actor_critic.py\n",
    "- https://github.com/pfnet/pfrl/blob/master/pfrl/agents/soft_actor_critic.py"
   ]
  },
  {
   "cell_type": "code",
   "execution_count": 7,
   "id": "emotional-reynolds",
   "metadata": {},
   "outputs": [],
   "source": [
    "import pfrl\n",
    "from pfrl import experiments, replay_buffers, utils\n",
    "from pfrl.nn.lmbda import Lambda\n",
    "\n",
    "import torch\n",
    "from torch import distributions, nn\n",
    "import gym\n",
    "import numpy\n",
    "from skimage.transform import rescale\n",
    "\n",
    "import robo_gym\n",
    "from robo_gym.wrappers.exception_handling import ExceptionHandling"
   ]
  },
  {
   "cell_type": "code",
   "execution_count": 8,
   "id": "smoking-breathing",
   "metadata": {},
   "outputs": [],
   "source": [
    "target_machine_ip = 'localhost'\n",
    "num_envs = 3\n",
    "\n",
    "def make_env(process_idx, test):\n",
    "    env = gym.make('CubeRoomSearch-v0', ip=target_machine_ip, gui=False)\n",
    "    env = ExceptionHandling(env)\n",
    "    \n",
    "    # Unwrap TimiLimit wrapper\n",
    "    assert isinstance(env, gym.wrappers.TimeLimit)\n",
    "    env = env.env\n",
    "\n",
    "    env = pfrl.wrappers.CastObservationToFloat32(env)\n",
    "\n",
    "    return env\n",
    "\n",
    "def make_batch_env(test):\n",
    "    return pfrl.envs.MultiprocessVectorEnv(\n",
    "        [\n",
    "            functools.partial(make_env, idx, test)\n",
    "            for idx, env in enumerate(range(num_envs))\n",
    "        ]\n",
    "    )"
   ]
  },
  {
   "cell_type": "code",
   "execution_count": 9,
   "id": "express-services",
   "metadata": {},
   "outputs": [
    {
     "name": "stdout",
     "output_type": "stream",
     "text": [
      "Starting new Robot Server | Tentative 1\n",
      "Successfully started Robot Server at localhost:58189\n"
     ]
    },
    {
     "ename": "AssertionError",
     "evalue": "",
     "output_type": "error",
     "traceback": [
      "\u001b[0;31m---------------------------------------------------------------------------\u001b[0m",
      "\u001b[0;31mAssertionError\u001b[0m                            Traceback (most recent call last)",
      "\u001b[0;32m<ipython-input-9-3a5dfaaa2f83>\u001b[0m in \u001b[0;36m<module>\u001b[0;34m\u001b[0m\n\u001b[0;32m----> 1\u001b[0;31m \u001b[0msample_env\u001b[0m \u001b[0;34m=\u001b[0m \u001b[0mmake_env\u001b[0m\u001b[0;34m(\u001b[0m\u001b[0mprocess_idx\u001b[0m\u001b[0;34m=\u001b[0m\u001b[0;36m0\u001b[0m\u001b[0;34m,\u001b[0m \u001b[0mtest\u001b[0m\u001b[0;34m=\u001b[0m\u001b[0;32mFalse\u001b[0m\u001b[0;34m)\u001b[0m\u001b[0;34m\u001b[0m\u001b[0;34m\u001b[0m\u001b[0m\n\u001b[0m\u001b[1;32m      2\u001b[0m \u001b[0;34m\u001b[0m\u001b[0m\n\u001b[1;32m      3\u001b[0m \u001b[0mtimestep_limit\u001b[0m \u001b[0;34m=\u001b[0m \u001b[0msample_env\u001b[0m\u001b[0;34m.\u001b[0m\u001b[0mspec\u001b[0m\u001b[0;34m.\u001b[0m\u001b[0mmax_episode_steps\u001b[0m\u001b[0;34m\u001b[0m\u001b[0;34m\u001b[0m\u001b[0m\n\u001b[1;32m      4\u001b[0m \u001b[0mobs_space\u001b[0m \u001b[0;34m=\u001b[0m \u001b[0msample_env\u001b[0m\u001b[0;34m.\u001b[0m\u001b[0mobservation_space\u001b[0m\u001b[0;34m\u001b[0m\u001b[0;34m\u001b[0m\u001b[0m\n\u001b[1;32m      5\u001b[0m \u001b[0maction_space\u001b[0m \u001b[0;34m=\u001b[0m \u001b[0msample_env\u001b[0m\u001b[0;34m.\u001b[0m\u001b[0maction_space\u001b[0m\u001b[0;34m\u001b[0m\u001b[0;34m\u001b[0m\u001b[0m\n",
      "\u001b[0;32m<ipython-input-8-4217b134fbba>\u001b[0m in \u001b[0;36mmake_env\u001b[0;34m(process_idx, test)\u001b[0m\n\u001b[1;32m      7\u001b[0m \u001b[0;34m\u001b[0m\u001b[0m\n\u001b[1;32m      8\u001b[0m     \u001b[0;31m# Unwrap TimiLimit wrapper\u001b[0m\u001b[0;34m\u001b[0m\u001b[0;34m\u001b[0m\u001b[0;34m\u001b[0m\u001b[0m\n\u001b[0;32m----> 9\u001b[0;31m     \u001b[0;32massert\u001b[0m \u001b[0misinstance\u001b[0m\u001b[0;34m(\u001b[0m\u001b[0menv\u001b[0m\u001b[0;34m,\u001b[0m \u001b[0mgym\u001b[0m\u001b[0;34m.\u001b[0m\u001b[0mwrappers\u001b[0m\u001b[0;34m.\u001b[0m\u001b[0mTimeLimit\u001b[0m\u001b[0;34m)\u001b[0m\u001b[0;34m\u001b[0m\u001b[0;34m\u001b[0m\u001b[0m\n\u001b[0m\u001b[1;32m     10\u001b[0m     \u001b[0menv\u001b[0m \u001b[0;34m=\u001b[0m \u001b[0menv\u001b[0m\u001b[0;34m.\u001b[0m\u001b[0menv\u001b[0m\u001b[0;34m\u001b[0m\u001b[0;34m\u001b[0m\u001b[0m\n\u001b[1;32m     11\u001b[0m \u001b[0;34m\u001b[0m\u001b[0m\n",
      "\u001b[0;31mAssertionError\u001b[0m: "
     ]
    }
   ],
   "source": [
    "sample_env = make_env(process_idx=0, test=False)\n",
    "\n",
    "timestep_limit = sample_env.spec.max_episode_steps\n",
    "obs_space = sample_env.observation_space\n",
    "action_space = sample_env.action_space\n",
    "print(\"Observation space:\", obs_space)\n",
    "print(\"Action space:\", action_space)"
   ]
  },
  {
   "cell_type": "code",
   "execution_count": null,
   "id": "thrown-orientation",
   "metadata": {},
   "outputs": [],
   "source": [
    "rescale = 128\n",
    "obs_size = obs_space['agent_pose'].low.size + rescale**2\n",
    "action_size = action_space.low.size"
   ]
  },
  {
   "cell_type": "code",
   "execution_count": null,
   "id": "visible-flesh",
   "metadata": {},
   "outputs": [],
   "source": [
    "def squashed_diagonal_gaussian_head(x):\n",
    "    assert x.shape[-1] == action_size * 2\n",
    "    mean, log_scale = torch.chunk(x, 2, dim=1)\n",
    "    log_scale = torch.clamp(log_scale, -20.0, 2.0)\n",
    "    var = torch.exp(log_scale * 2)\n",
    "    base_distribution = distributions.Independent(\n",
    "        distributions.Normal(loc=mean, scale=torch.sqrt(var)), 1\n",
    "    )\n",
    "    # cache_size=1 is required for numerical stability\n",
    "    return distributions.transformed_distribution.TransformedDistribution(\n",
    "        base_distribution, [distributions.transforms.TanhTransform(cache_size=1)]\n",
    "    )\n",
    "\n",
    "policy = nn.Sequential(\n",
    "    nn.Linear(obs_size, 256),\n",
    "    nn.ReLU(),\n",
    "    nn.Linear(256, 256),\n",
    "    nn.ReLU(),\n",
    "    nn.Linear(256, action_size * 2),\n",
    "    Lambda(squashed_diagonal_gaussian_head),\n",
    ")\n",
    "torch.nn.init.xavier_uniform_(policy[0].weight)\n",
    "torch.nn.init.xavier_uniform_(policy[2].weight)\n",
    "torch.nn.init.xavier_uniform_(policy[4].weight, gain=1.0)\n",
    "\n",
    "policy_optimizer = torch.optim.Adam(policy.parameters(), lr=3e-4)"
   ]
  },
  {
   "cell_type": "code",
   "execution_count": null,
   "id": "removed-place",
   "metadata": {},
   "outputs": [],
   "source": [
    "def make_q_func_with_optimizer():\n",
    "    q_func = nn.Sequential(\n",
    "        pfrl.nn.ConcatObsAndAction(),\n",
    "        nn.Linear(obs_size + action_size, 256),\n",
    "        nn.ReLU(),\n",
    "        nn.Linear(256, 256),\n",
    "        nn.ReLU(),\n",
    "        nn.Linear(256, 1),\n",
    "    )\n",
    "    torch.nn.init.xavier_uniform_(q_func[1].weight)\n",
    "    torch.nn.init.xavier_uniform_(q_func[3].weight)\n",
    "    torch.nn.init.xavier_uniform_(q_func[5].weight)\n",
    "    q_func_optimizer = torch.optim.Adam(q_func.parameters(), lr=3e-4)\n",
    "    return q_func, q_func_optimizer\n",
    "\n",
    "q_func1, q_func1_optimizer = make_q_func_with_optimizer()\n",
    "q_func2, q_func2_optimizer = make_q_func_with_optimizer()\n",
    "\n",
    "rbuf = replay_buffers.ReplayBuffer(10 ** 6)"
   ]
  },
  {
   "cell_type": "code",
   "execution_count": null,
   "id": "whole-oregon",
   "metadata": {},
   "outputs": [],
   "source": [
    "gamma = 0.99\n",
    "replay_start_size = 1000\n",
    "gpu = -1\n",
    "batch_size = 64\n",
    "burnin_action_func = action_space.sample\n",
    "entropy_target = -action_size\n",
    "temperature_optimizer_lr=3e-4"
   ]
  },
  {
   "cell_type": "code",
   "execution_count": null,
   "id": "answering-mercury",
   "metadata": {},
   "outputs": [],
   "source": [
    "agent = pfrl.agents.SoftActorCritic(\n",
    "    policy,\n",
    "    q_func1,\n",
    "    q_func2,\n",
    "    policy_optimizer,\n",
    "    q_func1_optimizer,\n",
    "    q_func2_optimizer,\n",
    "    rbuf,\n",
    "    gamma=gamma,\n",
    "    replay_start_size=replay_start_size,\n",
    "    gpu=gpu,\n",
    "    minibatch_size=batch_size,\n",
    "    burnin_action_func=burnin_action_func,\n",
    "    entropy_target=entropy_target,\n",
    "    temperature_optimizer_lr=temperature_optimizer_lr,\n",
    ")"
   ]
  },
  {
   "cell_type": "code",
   "execution_count": null,
   "id": "obvious-northern",
   "metadata": {},
   "outputs": [],
   "source": []
  }
 ],
 "metadata": {
  "kernelspec": {
   "display_name": "Python 3",
   "language": "python",
   "name": "python3"
  },
  "language_info": {
   "codemirror_mode": {
    "name": "ipython",
    "version": 3
   },
   "file_extension": ".py",
   "mimetype": "text/x-python",
   "name": "python",
   "nbconvert_exporter": "python",
   "pygments_lexer": "ipython3",
   "version": "3.6.9"
  }
 },
 "nbformat": 4,
 "nbformat_minor": 5
}
