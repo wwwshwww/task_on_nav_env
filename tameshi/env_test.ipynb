{
 "cells": [
  {
   "cell_type": "code",
   "execution_count": 1,
   "id": "victorian-report",
   "metadata": {},
   "outputs": [],
   "source": [
    "import gym\n",
    "import robo_gym\n",
    "from robo_gym.wrappers.exception_handling import ExceptionHandling\n",
    "\n",
    "import numpy as np"
   ]
  },
  {
   "cell_type": "code",
   "execution_count": 2,
   "id": "southern-london",
   "metadata": {},
   "outputs": [
    {
     "name": "stdout",
     "output_type": "stream",
     "text": [
      "Starting new Robot Server | Tentative 1\n",
      "Successfully started Robot Server at localhost:51875\n"
     ]
    },
    {
     "name": "stderr",
     "output_type": "stream",
     "text": [
      "/usr/local/lib/python3.6/dist-packages/gym/logger.py:30: UserWarning: \u001b[33mWARN: Box bound precision lowered by casting to float32\u001b[0m\n",
      "  warnings.warn(colorize('%s: %s'%('WARN', msg % args), 'yellow'))\n"
     ]
    },
    {
     "data": {
      "text/plain": [
       "{'occupancy_grid': array([-1, -1, -1, ..., -1, -1, -1], dtype=int16),\n",
       " 'agent_pose': array([0., 0., 0.])}"
      ]
     },
     "execution_count": 2,
     "metadata": {},
     "output_type": "execute_result"
    }
   ],
   "source": [
    "target_machine_ip = 'localhost' # or other machine 'xxx.xxx.xxx.xxx'\n",
    "\n",
    "# initialize environment\n",
    "env = gym.make('CubeRoomOnNavigationStack-v0', ip=target_machine_ip, gui=True)\n",
    "env = ExceptionHandling(env)\n",
    "\n",
    "env.reset(**{'new_room': True, 'new_agent_pose': True})"
   ]
  },
  {
   "cell_type": "code",
   "execution_count": 3,
   "id": "insured-batman",
   "metadata": {},
   "outputs": [
    {
     "data": {
      "text/plain": [
       "{'occupancy_grid': array([-1, -1, -1, ..., -1, -1, -1], dtype=int16),\n",
       " 'agent_pose': array([0., 0., 0.])}"
      ]
     },
     "execution_count": 3,
     "metadata": {},
     "output_type": "execute_result"
    }
   ],
   "source": [
    "state = env.reset(**{'new_room': False, 'new_agent_pose': True})\n",
    "state"
   ]
  },
  {
   "cell_type": "code",
   "execution_count": 3,
   "id": "opposite-salmon",
   "metadata": {},
   "outputs": [
    {
     "data": {
      "text/plain": [
       "array([ 1.60306001,  0.92787546, -2.25135589])"
      ]
     },
     "execution_count": 3,
     "metadata": {},
     "output_type": "execute_result"
    }
   ],
   "source": [
    "env.agent_pose"
   ]
  },
  {
   "cell_type": "code",
   "execution_count": 95,
   "id": "official-webster",
   "metadata": {},
   "outputs": [
    {
     "data": {
      "text/plain": [
       "(array([ 0., -1., -1.], dtype=float32), array([1., 1., 1.], dtype=float32))"
      ]
     },
     "execution_count": 95,
     "metadata": {},
     "output_type": "execute_result"
    }
   ],
   "source": [
    "env.action_space.low, env.action_space.high"
   ]
  },
  {
   "cell_type": "code",
   "execution_count": 96,
   "id": "infinite-evening",
   "metadata": {},
   "outputs": [
    {
     "name": "stdout",
     "output_type": "stream",
     "text": [
      "observation[agent_pose]: \n",
      "\tlow: [ 0.        -3.1415927 -3.1415927]\n",
      "\thigh: [      inf 3.1415927 3.1415927]:\n"
     ]
    }
   ],
   "source": [
    "pose_low = env.observation_space['agent_pose'].low\n",
    "pose_high = env.observation_space['agent_pose'].high\n",
    "print(f\"observation[agent_pose]: \\n\\tlow: {pose_low}\\n\\thigh: {pose_high}:\")"
   ]
  },
  {
   "cell_type": "code",
   "execution_count": 6,
   "id": "iraqi-float",
   "metadata": {},
   "outputs": [
    {
     "name": "stdout",
     "output_type": "stream",
     "text": [
      "[ 0.04982662  2.35518585 -0.01492357] (1.6526182889938354, 0.933039665222168, -2.266279458999634)\n"
     ]
    }
   ],
   "source": [
    "action = [0.1,0,0]\n",
    "state, _, _, _ = env.step(action)\n",
    "print(state['agent_pose'], env.agent_pose)"
   ]
  },
  {
   "cell_type": "code",
   "execution_count": 11,
   "id": "express-oriental",
   "metadata": {},
   "outputs": [
    {
     "name": "stdout",
     "output_type": "stream",
     "text": [
      "{-1: 62385, 0: 2823, 100: 328}\n",
      "{0: 328, 128: 62385, 255: 2823}\n"
     ]
    },
    {
     "data": {
      "text/plain": [
       "<matplotlib.image.AxesImage at 0x7f34caa12ba8>"
      ]
     },
     "execution_count": 11,
     "metadata": {},
     "output_type": "execute_result"
    },
    {
     "data": {
      "image/png": "[encoded data removed]",
      "text/plain": [
       "<Figure size 504x504 with 1 Axes>"
      ]
     },
     "metadata": {
      "needs_background": "light"
     },
     "output_type": "display_data"
    }
   ],
   "source": [
    "import numpy as np\n",
    "import matplotlib.pyplot as plt\n",
    "from pylab import rcParams\n",
    "\n",
    "rcParams['figure.figsize'] = 7,7\n",
    "\n",
    "o = np.array(state['occupancy_grid'], dtype=np.int16)\n",
    "unique, counts = np.unique(o, return_counts=True)\n",
    "print(dict(zip(unique, counts)))\n",
    "\n",
    "o[o == 0] = 255\n",
    "o[o == 100] = 0\n",
    "o[o == -1] = 128\n",
    "unique, counts = np.unique(o, return_counts=True)\n",
    "print(dict(zip(unique, counts)))\n",
    "img = o.reshape((256,256)).T\n",
    "plt.imshow(img, cmap='gray') "
   ]
  },
  {
   "cell_type": "code",
   "execution_count": 12,
   "id": "warming-melbourne",
   "metadata": {},
   "outputs": [
    {
     "name": "stdout",
     "output_type": "stream",
     "text": [
      "(128, 128)\n"
     ]
    },
    {
     "data": {
      "text/plain": [
       "<matplotlib.image.AxesImage at 0x7f34ca983a58>"
      ]
     },
     "execution_count": 12,
     "metadata": {},
     "output_type": "execute_result"
    },
    {
     "data": {
      "image/png": "[encoded data removed]",
      "text/plain": [
       "<Figure size 504x504 with 1 Axes>"
      ]
     },
     "metadata": {
      "needs_background": "light"
     },
     "output_type": "display_data"
    }
   ],
   "source": [
    "from skimage.transform import resize, rescale\n",
    "\n",
    "resized = rescale(img, 0.5, anti_aliasing=False)\n",
    "print(resized.shape)\n",
    "plt.imshow(resized, cmap='gray')"
   ]
  },
  {
   "cell_type": "code",
   "execution_count": 13,
   "id": "covered-softball",
   "metadata": {},
   "outputs": [
    {
     "name": "stdout",
     "output_type": "stream",
     "text": [
      "{0: 60600, 255: 4936}\n"
     ]
    },
    {
     "data": {
      "text/plain": [
       "<matplotlib.image.AxesImage at 0x7f34ca8f4b00>"
      ]
     },
     "execution_count": 13,
     "metadata": {},
     "output_type": "execute_result"
    },
    {
     "data": {
      "image/png": "[encoded data removed]",
      "text/plain": [
       "<Figure size 504x504 with 1 Axes>"
      ]
     },
     "metadata": {
      "needs_background": "light"
     },
     "output_type": "display_data"
    }
   ],
   "source": [
    "o = np.array(env.map_trueth, dtype=np.int16)\n",
    "unique, counts = np.unique(o, return_counts=True)\n",
    "print(dict(zip(unique, counts)))\n",
    "\n",
    "img = o.reshape((256,256)).T\n",
    "plt.imshow(img, cmap='gray') "
   ]
  },
  {
   "cell_type": "code",
   "execution_count": null,
   "id": "tough-shell",
   "metadata": {},
   "outputs": [],
   "source": []
  }
 ],
 "metadata": {
  "kernelspec": {
   "display_name": "Python 3",
   "language": "python",
   "name": "python3"
  },
  "language_info": {
   "codemirror_mode": {
    "name": "ipython",
    "version": 3
   },
   "file_extension": ".py",
   "mimetype": "text/x-python",
   "name": "python",
   "nbconvert_exporter": "python",
   "pygments_lexer": "ipython3",
   "version": "3.6.9"
  }
 },
 "nbformat": 4,
 "nbformat_minor": 5
}
