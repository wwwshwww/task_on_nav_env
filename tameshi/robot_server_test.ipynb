{
 "cells": [
  {
   "cell_type": "code",
   "execution_count": null,
   "id": "incoming-subcommittee",
   "metadata": {},
   "outputs": [],
   "source": [
    "import gym\n",
    "import robo_gym\n",
    "from robo_gym.wrappers.exception_handling import ExceptionHandling"
   ]
  },
  {
   "cell_type": "code",
   "execution_count": null,
   "id": "confidential-polyester",
   "metadata": {},
   "outputs": [],
   "source": [
    "target_machine_ip = 'localhost' # or other machine 'xxx.xxx.xxx.xxx'\n",
    "\n",
    "# initialize environment\n",
    "env = gym.make('CubeRoomOnNavigationStack-v0', ip=target_machine_ip, gui=True)\n",
    "env = ExceptionHandling(env)\n",
    "\n",
    "env.reset(True, True)\n",
    "env.state"
   ]
  },
  {
   "cell_type": "code",
   "execution_count": 1,
   "id": "collected-integer",
   "metadata": {},
   "outputs": [],
   "source": [
    "import numpy as np\n",
    "import copy\n",
    "\n",
    "import robo_gym_server_modules.robot_server.client as rs_client\n",
    "from robo_gym.envs.simulation_wrapper import Simulation\n",
    "from robo_gym_server_modules.robot_server.grpc_msgs.python import robot_server_pb2\n",
    "\n",
    "from robo_gym.envs.mir_nav.mir_nav import Mir100NavEnv"
   ]
  },
  {
   "cell_type": "code",
   "execution_count": 2,
   "id": "essential-travel",
   "metadata": {},
   "outputs": [
    {
     "name": "stdout",
     "output_type": "stream",
     "text": [
      "Starting new Robot Server | Tentative 1\n",
      "<class 'server_manager_pb2.RobotServer'>\n",
      "True \n",
      "Successfully started Robot Server at localhost:58481\n",
      "[ 2.56000000e+02 -1.00000000e+00 -1.00000000e+00 ... -4.14357424e-01\n",
      "  2.15855017e-01  0.00000000e+00]\n"
     ]
    }
   ],
   "source": [
    "class TestSim(Simulation):\n",
    "    cmd = \"roslaunch task_on_nav_robot_server sim_robot_server.launch\"\n",
    "    def __init__(self, ip=None, lower_bound_port=None, upper_bound_port=None, gui=False, **kwargs):\n",
    "        Simulation.__init__(self, self.cmd, ip, lower_bound_port, upper_bound_port, gui, **kwargs)\n",
    "        rs_address=self.robot_server_ip\n",
    "        self.client = rs_client.Client(rs_address)\n",
    "\n",
    "ts = TestSim(ip='localhost', gui=True)\n",
    "client = ts.client\n",
    "\n",
    "map_size = 256\n",
    "\n",
    "rs_state = np.zeros([(map_size**2)*2 + 17])\n",
    "\n",
    "ignore_start = 1\n",
    "map_state_len = (map_size**2)*2\n",
    "ignore_len = map_state_len + 6\n",
    "ignore_index = ignore_start + ignore_len\n",
    "\n",
    "rs_state[0] = map_size\n",
    "rs_state[ignore_index] = 1\n",
    "rs_state[ignore_index+1] = 1\n",
    "rs_state[ignore_index+2] = 10\n",
    "rs_state[ignore_index+3] = 0.4\n",
    "rs_state[ignore_index+4] = 0.2\n",
    "rs_state[ignore_index+5] = 9.0\n",
    "rs_state[ignore_index+6] = 25\n",
    "rs_state[ignore_index+7] = 36\n",
    "rs_state[ignore_index+8] = 0.8\n",
    "rs_state[ignore_index+9] = 0.05\n",
    "\n",
    "state_msg = robot_server_pb2.State(state=rs_state)\n",
    "\n",
    "if not client.set_state_msg(state_msg):\n",
    "    raise Exception('fuuu')\n",
    "\n",
    "rs_state = np.array(client.get_state_msg().state)\n",
    "print(rs_state)"
   ]
  },
  {
   "cell_type": "code",
   "execution_count": 7,
   "id": "joint-carter",
   "metadata": {},
   "outputs": [],
   "source": [
    "rs_state = np.array(client.get_state_msg().state)"
   ]
  },
  {
   "cell_type": "code",
   "execution_count": 21,
   "id": "confident-longer",
   "metadata": {},
   "outputs": [
    {
     "name": "stdout",
     "output_type": "stream",
     "text": [
      "{-1.0: 53848, 0.0: 10852, 100.0: 836}\n"
     ]
    }
   ],
   "source": [
    "from PIL import Image\n",
    "\n",
    "arr = np.array(rs_state[1:1+map_size**2])\n",
    "unique, counts = np.unique(arr, return_counts=True)\n",
    "print(dict(zip(unique, counts)))\n",
    "arr[arr == 0] = 255\n",
    "arr[arr == 100] = 0\n",
    "arr[arr == -1] = 128\n",
    "arr = np.array(arr, dtype=np.uint8)\n",
    "imgg = Image.fromarray(arr.reshape((256,256)).T, 'L')\n",
    "imgg.show()\n",
    "\n",
    "ar = np.array(rs_state[2+map_size**2:1+(map_size**2)*2+1],dtype=np.uint8)\n",
    "img = Image.fromarray(ar.reshape((256,256)), 'L')\n",
    "img.show()"
   ]
  },
  {
   "cell_type": "code",
   "execution_count": null,
   "id": "charged-liberal",
   "metadata": {},
   "outputs": [],
   "source": [
    "import sys\n",
    "print(sys.path)"
   ]
  },
  {
   "cell_type": "code",
   "execution_count": 8,
   "id": "democratic-castle",
   "metadata": {},
   "outputs": [
    {
     "data": {
      "text/plain": [
       "(array([1, 1, 1]),\n",
       " array([[1],\n",
       "        [1],\n",
       "        [1]]))"
      ]
     },
     "execution_count": 8,
     "metadata": {},
     "output_type": "execute_result"
    }
   ],
   "source": [
    "import numpy as np\n",
    "\n",
    "g = np.reshape([1,1,1], (3,1))\n",
    "g.flatten(), g"
   ]
  },
  {
   "cell_type": "code",
   "execution_count": 17,
   "id": "frequent-malawi",
   "metadata": {},
   "outputs": [
    {
     "data": {
      "text/plain": [
       "256.0"
      ]
     },
     "execution_count": 17,
     "metadata": {},
     "output_type": "execute_result"
    }
   ],
   "source": []
  },
  {
   "cell_type": "code",
   "execution_count": null,
   "id": "thermal-windsor",
   "metadata": {},
   "outputs": [],
   "source": []
  }
 ],
 "metadata": {
  "kernelspec": {
   "display_name": "Python 3",
   "language": "python",
   "name": "python3"
  },
  "language_info": {
   "codemirror_mode": {
    "name": "ipython",
    "version": 3
   },
   "file_extension": ".py",
   "mimetype": "text/x-python",
   "name": "python",
   "nbconvert_exporter": "python",
   "pygments_lexer": "ipython3",
   "version": "3.6.9"
  }
 },
 "nbformat": 4,
 "nbformat_minor": 5
}
