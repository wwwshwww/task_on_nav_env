{
 "cells": [
  {
   "cell_type": "code",
   "execution_count": null,
   "id": "incoming-subcommittee",
   "metadata": {},
   "outputs": [],
   "source": [
    "import gym\n",
    "import robo_gym\n",
    "from robo_gym.wrappers.exception_handling import ExceptionHandling"
   ]
  },
  {
   "cell_type": "code",
   "execution_count": null,
   "id": "confidential-polyester",
   "metadata": {},
   "outputs": [],
   "source": [
    "target_machine_ip = 'localhost' # or other machine 'xxx.xxx.xxx.xxx'\n",
    "\n",
    "# initialize environment\n",
    "env = gym.make('CubeRoomOnNavigationStack-v0', ip=target_machine_ip, gui=True)\n",
    "env = ExceptionHandling(env)\n",
    "\n",
    "env.reset(True, True)\n",
    "env.state"
   ]
  },
  {
   "cell_type": "code",
   "execution_count": 1,
   "id": "collected-integer",
   "metadata": {},
   "outputs": [],
   "source": [
    "import numpy as np\n",
    "import copy\n",
    "\n",
    "import robo_gym_server_modules.robot_server.client as rs_client\n",
    "from robo_gym.envs.simulation_wrapper import Simulation\n",
    "from robo_gym_server_modules.robot_server.grpc_msgs.python import robot_server_pb2\n",
    "\n",
    "from robo_gym.envs.mir_nav.mir_nav import Mir100NavEnv"
   ]
  },
  {
   "cell_type": "code",
   "execution_count": 2,
   "id": "essential-travel",
   "metadata": {},
   "outputs": [
    {
     "name": "stdout",
     "output_type": "stream",
     "text": [
      "Starting new Robot Server | Tentative 1\n",
      "<class 'server_manager_pb2.RobotServer'>\n",
      "True \n",
      "Successfully started Robot Server at localhost:53315\n",
      "yash\n"
     ]
    },
    {
     "ename": "Exception",
     "evalue": "fuuu",
     "output_type": "error",
     "traceback": [
      "\u001b[0;31m---------------------------------------------------------------------------\u001b[0m",
      "\u001b[0;31mException\u001b[0m                                 Traceback (most recent call last)",
      "\u001b[0;32m<ipython-input-2-ffbc004a2e19>\u001b[0m in \u001b[0;36m<module>\u001b[0;34m\u001b[0m\n\u001b[1;32m     33\u001b[0m \u001b[0;34m\u001b[0m\u001b[0m\n\u001b[1;32m     34\u001b[0m \u001b[0;32mif\u001b[0m \u001b[0;32mnot\u001b[0m \u001b[0mclient\u001b[0m\u001b[0;34m.\u001b[0m\u001b[0mset_state_msg\u001b[0m\u001b[0;34m(\u001b[0m\u001b[0mstate_msg\u001b[0m\u001b[0;34m)\u001b[0m\u001b[0;34m:\u001b[0m\u001b[0;34m\u001b[0m\u001b[0;34m\u001b[0m\u001b[0m\n\u001b[0;32m---> 35\u001b[0;31m     \u001b[0;32mraise\u001b[0m \u001b[0mException\u001b[0m\u001b[0;34m(\u001b[0m\u001b[0;34m'fuuu'\u001b[0m\u001b[0;34m)\u001b[0m\u001b[0;34m\u001b[0m\u001b[0;34m\u001b[0m\u001b[0m\n\u001b[0m\u001b[1;32m     36\u001b[0m \u001b[0;34m\u001b[0m\u001b[0m\n\u001b[1;32m     37\u001b[0m \u001b[0mrs_state\u001b[0m \u001b[0;34m=\u001b[0m \u001b[0mcopy\u001b[0m\u001b[0;34m.\u001b[0m\u001b[0mdeepcopy\u001b[0m\u001b[0;34m(\u001b[0m\u001b[0mnp\u001b[0m\u001b[0;34m.\u001b[0m\u001b[0marray\u001b[0m\u001b[0;34m(\u001b[0m\u001b[0mclient\u001b[0m\u001b[0;34m.\u001b[0m\u001b[0mget_state_msg\u001b[0m\u001b[0;34m(\u001b[0m\u001b[0;34m)\u001b[0m\u001b[0;34m.\u001b[0m\u001b[0mstate\u001b[0m\u001b[0;34m)\u001b[0m\u001b[0;34m)\u001b[0m\u001b[0;34m\u001b[0m\u001b[0;34m\u001b[0m\u001b[0m\n",
      "\u001b[0;31mException\u001b[0m: fuuu"
     ]
    }
   ],
   "source": [
    "class TestSim(Simulation):\n",
    "    cmd = \"roslaunch task_on_nav_robot_server sim_robot_server.launch\"\n",
    "    def __init__(self, ip=None, lower_bound_port=None, upper_bound_port=None, gui=False, **kwargs):\n",
    "        Simulation.__init__(self, self.cmd, ip, lower_bound_port, upper_bound_port, gui, **kwargs)\n",
    "        print(\"yash\")\n",
    "        rs_address=self.robot_server_ip\n",
    "        self.client = rs_client.Client(rs_address)\n",
    "\n",
    "ts = TestSim(ip='localhost', gui=True)\n",
    "client = ts.client\n",
    "\n",
    "map_size = 256\n",
    "\n",
    "rs_state = np.zeros([(map_size**2)*2 + 17])\n",
    "\n",
    "ignore_start = 1\n",
    "map_state_len = (map_size**2)*2\n",
    "ignore_len = map_state_len + 6\n",
    "ignore_index = ignore_start + ignore_len\n",
    "\n",
    "rs_state[0] = map_size\n",
    "rs_state[ignore_index] = 1\n",
    "rs_state[ignore_index+1] = 1\n",
    "rs_state[ignore_index+2] = 10\n",
    "rs_state[ignore_index+3] = 0.7\n",
    "rs_state[ignore_index+4] = 0.2\n",
    "rs_state[ignore_index+5] = 9.0\n",
    "rs_state[ignore_index+6] = 20\n",
    "rs_state[ignore_index+7] = 36\n",
    "rs_state[ignore_index+8] = 0.05\n",
    "\n",
    "state_msg = robot_server_pb2.State(state=rs_state)\n",
    "\n",
    "if not client.set_state_msg(state_msg):\n",
    "    raise Exception('fuuu')\n",
    "\n",
    "rs_state = copy.deepcopy(np.array(client.get_state_msg().state))\n",
    "print(rs_state)"
   ]
  },
  {
   "cell_type": "code",
   "execution_count": null,
   "id": "charged-liberal",
   "metadata": {},
   "outputs": [],
   "source": [
    "import sys\n",
    "print(sys.path)"
   ]
  },
  {
   "cell_type": "code",
   "execution_count": 10,
   "id": "determined-ghost",
   "metadata": {},
   "outputs": [
    {
     "data": {
      "text/plain": [
       "{'m': 1, 'n': 2}"
      ]
     },
     "execution_count": 10,
     "metadata": {},
     "output_type": "execute_result"
    }
   ],
   "source": [
    "class a:\n",
    "    def __init__(self):\n",
    "        self.m = 1\n",
    "        self.n = 2\n",
    "        \n",
    "cls = a()\n",
    "cls.__dict__"
   ]
  },
  {
   "cell_type": "code",
   "execution_count": 6,
   "id": "emerging-ozone",
   "metadata": {},
   "outputs": [
    {
     "name": "stdout",
     "output_type": "stream",
     "text": [
      "None\n"
     ]
    }
   ],
   "source": [
    "import copy\n",
    "a = None\n",
    "b = copy.deepcopy(a)\n",
    "print(b)"
   ]
  },
  {
   "cell_type": "code",
   "execution_count": null,
   "id": "angry-meaning",
   "metadata": {},
   "outputs": [],
   "source": []
  }
 ],
 "metadata": {
  "kernelspec": {
   "display_name": "Python 3",
   "language": "python",
   "name": "python3"
  },
  "language_info": {
   "codemirror_mode": {
    "name": "ipython",
    "version": 3
   },
   "file_extension": ".py",
   "mimetype": "text/x-python",
   "name": "python",
   "nbconvert_exporter": "python",
   "pygments_lexer": "ipython3",
   "version": "3.6.9"
  }
 },
 "nbformat": 4,
 "nbformat_minor": 5
}
