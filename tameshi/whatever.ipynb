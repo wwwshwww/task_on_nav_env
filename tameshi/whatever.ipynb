{
 "cells": [
  {
   "cell_type": "code",
   "execution_count": 5,
   "id": "weighted-forth",
   "metadata": {},
   "outputs": [
    {
     "name": "stdout",
     "output_type": "stream",
     "text": [
      "[[ 7.07106781e-01  7.07106781e-01 -1.41421356e+00]\n",
      " [-7.07106781e-01  7.07106781e-01 -1.11022302e-16]\n",
      " [ 0.00000000e+00  0.00000000e+00  1.00000000e+00]]\n",
      "0.9999999999999999\n"
     ]
    },
    {
     "data": {
      "image/png": "[encoded data removed]",
      "text/plain": [
       "<Figure size 432x288 with 1 Axes>"
      ]
     },
     "metadata": {
      "needs_background": "light"
     },
     "output_type": "display_data"
    }
   ],
   "source": [
    "import numpy as np\n",
    "from shapely.geometry import Point\n",
    "import shapely\n",
    "import trimesh\n",
    "import matplotlib.pyplot as plt\n",
    "\n",
    "p2_angle = np.pi/2\n",
    "p2_x = 2\n",
    "p2_y = 1\n",
    "p2 = Point(p2_x, p2_y).buffer(0.05)\n",
    "\n",
    "p1_angle = np.pi/4\n",
    "p1_x = 1\n",
    "p1_y = 1\n",
    "p1 = Point(p1_x,p1_y).buffer(0.05)\n",
    "mat_t = np.array([\n",
    "    [1, 0, -p1_x],\n",
    "    [0, 1, -p1_y],\n",
    "    [0, 0, 1]\n",
    "])\n",
    "mat_r = np.array([\n",
    "    [np.cos(-p1_angle), -np.sin(-p1_angle), 0],\n",
    "    [np.sin(-p1_angle), np.cos(-p1_angle), 0],\n",
    "    [0, 0, 1]\n",
    "])\n",
    "af = np.dot(mat_r, mat_t)\n",
    "print(af)\n",
    "p2_af = shapely.affinity.affine_transform(p2, [af[0,0], af[0,1], af[1,0], af[1,1], af[0,2], af[1,2]])\n",
    "p2_c = p2_af.centroid\n",
    "print(p2_c.distance(Point(0,0)))\n",
    "\n",
    "ppp = shapely.affinity.affine_transform(p1, [np.cos(-p1_angle), -np.sin(-p1_angle), np.sin(-p1_angle), np.cos(-p1_angle),0,0])\n",
    "trimesh.path.polygons.plot_polygon([p1, p2, p2_af, ppp])\n",
    "\n",
    "\n"
   ]
  },
  {
   "cell_type": "code",
   "execution_count": 11,
   "id": "featured-fault",
   "metadata": {},
   "outputs": [
    {
     "data": {
      "text/plain": [
       "(3.6739403974420594e-16, 3.6739403974420594e-16)"
      ]
     },
     "execution_count": 11,
     "metadata": {},
     "output_type": "execute_result"
    }
   ],
   "source": [
    "import numpy as np\n",
    "\n",
    "t = np.pi*3\n",
    "np.sin(np.pi)*3, np.sin(t)"
   ]
  },
  {
   "cell_type": "code",
   "execution_count": 15,
   "id": "critical-simpson",
   "metadata": {},
   "outputs": [
    {
     "data": {
      "text/plain": [
       "(1.2246467991473532e-16, 1.2246467991473532e-16)"
      ]
     },
     "execution_count": 15,
     "metadata": {},
     "output_type": "execute_result"
    }
   ],
   "source": [
    "import math\n",
    "\n",
    "t = math.pi*3\n",
    "math.sin(math.pi), math.sin(t%(math.pi*2))"
   ]
  },
  {
   "cell_type": "code",
   "execution_count": null,
   "id": "mathematical-december",
   "metadata": {},
   "outputs": [],
   "source": [
    "from robo_gym.utils import utils\n",
    "import numpy as np\n",
    "\n",
    "d1 = np.deg2rad(600)\n",
    "np.rad2deg(utils.normalize_angle_rad(d1))"
   ]
  }
 ],
 "metadata": {
  "kernelspec": {
   "display_name": "Python 2",
   "language": "python",
   "name": "python2"
  },
  "language_info": {
   "codemirror_mode": {
    "name": "ipython",
    "version": 3
   },
   "file_extension": ".py",
   "mimetype": "text/x-python",
   "name": "python",
   "nbconvert_exporter": "python",
   "pygments_lexer": "ipython3",
   "version": "3.6.9"
  }
 },
 "nbformat": 4,
 "nbformat_minor": 5
}
