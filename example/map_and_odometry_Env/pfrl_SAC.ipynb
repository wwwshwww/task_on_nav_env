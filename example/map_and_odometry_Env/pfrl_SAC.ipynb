{
 "cells": [
  {
   "cell_type": "code",
   "execution_count": 15,
   "id": "extraordinary-eleven",
   "metadata": {},
   "outputs": [],
   "source": [
    "import gym\n",
    "from gym import spaces\n",
    "import robo_gym\n",
    "from robo_gym.wrappers.exception_handling import ExceptionHandling\n",
    "import numpy as np\n",
    "import pfrl\n",
    "import torch\n",
    "from torch import distributions, nn\n",
    "import cv2\n",
    "import matplotlib.pyplot as plt"
   ]
  },
  {
   "cell_type": "code",
   "execution_count": 16,
   "id": "opposed-induction",
   "metadata": {},
   "outputs": [],
   "source": [
    "class WrapPyTorch(gym.ObservationWrapper):\n",
    "    def __init__(self, env=None):\n",
    "        super(WrapPyTorch, self).__init__(env)\n",
    "        obs_shape = self.observation_space\n",
    "        agent_pose = env.observation_space['agent_pose']\n",
    "        occupancy_grid = env.observation_space['occupancy_grid']\n",
    "        self.map_size = int(occupancy_grid.shape[0] ** (1/2))\n",
    "        \n",
    "        agent_pose_space = spaces.Box(\n",
    "            low=np.expand_dims(agent_pose.low, axis=0),\n",
    "            high=np.expand_dims(agent_pose.high, axis=0),\n",
    "            shape=(1, agent_pose.shape[0]),\n",
    "            dtype=np.float32\n",
    "        )\n",
    "        occupancy_grid_space = spaces.Box(\n",
    "            low=occupancy_grid.low[0],\n",
    "            high=occupancy_grid.high[0],\n",
    "            shape=(1, self.map_size, self.map_size),\n",
    "            dtype=np.float32\n",
    "        )\n",
    "        \n",
    "        self.observation_space = spaces.Tuple((occupancy_grid_space, agent_pose_space))\n",
    "    \n",
    "    def observation(self, observation):\n",
    "        map_img = observation['occupancy_grid'].reshape((self.map_size, self.map_size)).T\n",
    "        occupancy_grid = np.expand_dims(map_img, axis=0)\n",
    "        agent_pose = observation['agent_pose']\n",
    "        return (occupancy_grid, agent_pose)\n",
    "    \n",
    "    def reset(self, **kwargs):\n",
    "        return self.observation(self.env.reset(**kwargs))"
   ]
  },
  {
   "cell_type": "code",
   "execution_count": 17,
   "id": "prepared-graphics",
   "metadata": {},
   "outputs": [
    {
     "name": "stdout",
     "output_type": "stream",
     "text": [
      "Starting new Robot Server | Tentative 1 of 10\n",
      "Successfully started Robot Server at 10.244.2.11:54321\n",
      "Resetting env... [room: True, pose: True]\n"
     ]
    },
    {
     "data": {
      "text/plain": [
       "(array([[[-1., -1., -1., ..., -1., -1., -1.],\n",
       "         [-1., -1., -1., ..., -1., -1., -1.],\n",
       "         [-1., -1., -1., ..., -1., -1., -1.],\n",
       "         ...,\n",
       "         [-1., -1., -1., ..., -1., -1., -1.],\n",
       "         [-1., -1., -1., ..., -1., -1., -1.],\n",
       "         [-1., -1., -1., ..., -1., -1., -1.]]], dtype=float32),\n",
       " array([0., 0., 1., 0., 1.], dtype=float32))"
      ]
     },
     "execution_count": 17,
     "metadata": {},
     "output_type": "execute_result"
    }
   ],
   "source": [
    "target_machine_ip = '10.244.2.11' # or other machine 'xxx.xxx.xxx.xxx'\n",
    "\n",
    "# initialize environment\n",
    "env = gym.make('CubeRoomSearchLikeContinuously-v0', ip=target_machine_ip, gui=True)\n",
    "\n",
    "env = ExceptionHandling(env)\n",
    "env = WrapPyTorch(env)\n",
    "state = env.reset(**{'new_room': True, 'new_agent_pose': True})\n",
    "state"
   ]
  },
  {
   "cell_type": "code",
   "execution_count": 18,
   "id": "monetary-coating",
   "metadata": {},
   "outputs": [
    {
     "name": "stdout",
     "output_type": "stream",
     "text": [
      "timelimit: \t500\n",
      "obs_space: \tTuple(Box(-1.0, 100.0, (1, 128, 128), float32), Box(-1.0, inf, (1, 5), float32)) \n",
      "action_space: \tBox(-1.0, 1.0, (3,), float32)\n",
      "obs_map_size: \t16384 \n",
      "obs_pose_size: \t5\n",
      "action_size: \t3\n"
     ]
    }
   ],
   "source": [
    "timestep_limit = env.spec.max_episode_steps\n",
    "obs_space = env.observation_space\n",
    "action_space = env.action_space\n",
    "obs_map_size = obs_space[0].low.size\n",
    "obs_pose_size = obs_space[1].low.size\n",
    "action_size = action_space.low.size\n",
    "\n",
    "print(f'timelimit: \\t{timestep_limit}')\n",
    "print(f'obs_space: \\t{obs_space} \\naction_space: \\t{action_space}')\n",
    "print(f'obs_map_size: \\t{obs_map_size} \\nobs_pose_size: \\t{obs_pose_size}')\n",
    "print(f'action_size: \\t{action_size}')"
   ]
  },
  {
   "cell_type": "code",
   "execution_count": 5,
   "id": "champion-calendar",
   "metadata": {},
   "outputs": [
    {
     "data": {
      "text/plain": [
       "(array([[[-1., -1., -1., ..., -1., -1., -1.],\n",
       "         [-1., -1., -1., ..., -1., -1., -1.],\n",
       "         [-1., -1., -1., ..., -1., -1., -1.],\n",
       "         ...,\n",
       "         [-1., -1., -1., ..., -1., -1., -1.],\n",
       "         [-1., -1., -1., ..., -1., -1., -1.],\n",
       "         [-1., -1., -1., ..., -1., -1., -1.]]], dtype=float32),\n",
       " array([0.00929746, 0.6262265 , 0.7796412 , 0.99850106, 0.05473227],\n",
       "       dtype=float32))"
      ]
     },
     "execution_count": 5,
     "metadata": {},
     "output_type": "execute_result"
    }
   ],
   "source": [
    "# env.reset(new_room=False, new_agent_pose=True)\n",
    "state, _, _, _ = env.step([0,0,0.5])\n",
    "state"
   ]
  },
  {
   "cell_type": "code",
   "execution_count": 19,
   "id": "pharmaceutical-pantyhose",
   "metadata": {},
   "outputs": [],
   "source": [
    "def conv2d_size_out(size, kernel_size=5, stride=2):\n",
    "    return (size - (kernel_size - 1) - 1) // stride + 1\n",
    "        \n",
    "def make_conv2d_layer(width, height):\n",
    "    convW = conv2d_size_out(width, 4, 4) # 128 -> 32\n",
    "    convW = conv2d_size_out(convW, 4, 4) # 32 -> 8\n",
    "    convW = conv2d_size_out(convW, 3, 1) # 8 -> 6\n",
    "\n",
    "    convH = conv2d_size_out(height, 4, 4)\n",
    "    convH = conv2d_size_out(convH, 4, 4)\n",
    "    convH = conv2d_size_out(convH, 3, 1)\n",
    "\n",
    "    linear_input_size = convW * convH * 64\n",
    "    print('size:', linear_input_size)\n",
    "\n",
    "    # RGB Image tensor as input\n",
    "    return nn.Sequential(\n",
    "        nn.Conv2d(1, 32, kernel_size=4,stride=4),\n",
    "        nn.ReLU(),\n",
    "        nn.Conv2d(32, 64, kernel_size=4, stride=4),\n",
    "        nn.ReLU(),\n",
    "        nn.Conv2d(64, 64, kernel_size=3,stride=1),\n",
    "        nn.ReLU(),\n",
    "        nn.Flatten(),\n",
    "    ), linear_input_size\n",
    "\n",
    "def make_linear_layer(linear_input_size, out_size):\n",
    "    return nn.Sequential(\n",
    "        nn.Linear(linear_input_size, 256),\n",
    "        nn.ReLU(),\n",
    "        nn.Linear(256, 256),\n",
    "        nn.ReLU(),\n",
    "        nn.Linear(256, out_size),\n",
    "    )"
   ]
  },
  {
   "cell_type": "code",
   "execution_count": 20,
   "id": "structured-magnet",
   "metadata": {},
   "outputs": [],
   "source": [
    "def squashed_diagonal_gaussian_head(x):\n",
    "    assert x.shape[-1] == action_size * 2\n",
    "    mean, log_scale = torch.chunk(x, 2, dim=1)\n",
    "    log_scale = torch.clamp(log_scale, -20.0, 2.0)\n",
    "    var = torch.exp(log_scale * 2)\n",
    "    base_distribution = distributions.Independent(\n",
    "        distributions.Normal(loc=mean, scale=torch.sqrt(var)), 1\n",
    "    )\n",
    "    # cache_size=1 is required for numerical stability\n",
    "    return distributions.transformed_distribution.TransformedDistribution(\n",
    "        base_distribution, [distributions.transforms.TanhTransform(cache_size=1)]\n",
    "    )\n",
    "\n",
    "# def extract_obs(obs):\n",
    "#     occupancy_grid_batch = torch.tensor([s['occupancy_grid'] for s in obs])\n",
    "#     agent_pose_batch = torch.tensor([s['agent_pose'] for s in state])\n",
    "#     return occupancy_grid_batch, agent_pose_batch"
   ]
  },
  {
   "cell_type": "code",
   "execution_count": 21,
   "id": "medium-evans",
   "metadata": {},
   "outputs": [
    {
     "name": "stdout",
     "output_type": "stream",
     "text": [
      "(1, 128, 128)\n",
      "size: 2304\n"
     ]
    }
   ],
   "source": [
    "class PolicyFunction(nn.Module):\n",
    "    def __init__(self, width, height, pose_size, action_size):\n",
    "        super().__init__()\n",
    "\n",
    "        # RGB Image tensor as input\n",
    "        self.selectTrackFeatures, self.linear_input_size = make_conv2d_layer(width, height)\n",
    "        self.fc1 = make_linear_layer(self.linear_input_size + pose_size, action_size*2)\n",
    "    \n",
    "    def forward(self, state):\n",
    "        x = self.selectTrackFeatures(state[0])\n",
    "#         print(x.shape, state[1].shape)\n",
    "        x = torch.cat((x, state[1]), axis=-1)\n",
    "        x = self.fc1(x)\n",
    "        return squashed_diagonal_gaussian_head(x)\n",
    "\n",
    "obs_map_shape = obs_space[0].low.shape\n",
    "print(obs_map_shape)\n",
    "policy = PolicyFunction(obs_map_shape[1], obs_map_shape[2], obs_pose_size, action_size)\n",
    "policy_optimizer = torch.optim.Adam(policy.parameters(), lr=3e-4)"
   ]
  },
  {
   "cell_type": "code",
   "execution_count": 22,
   "id": "offshore-dynamics",
   "metadata": {},
   "outputs": [
    {
     "name": "stdout",
     "output_type": "stream",
     "text": [
      "size: 2304\n",
      "size: 2304\n"
     ]
    }
   ],
   "source": [
    "class QFunction(nn.Module):\n",
    "    def __init__(self, width, height,pose_size, action_size):\n",
    "        super().__init__()\n",
    "\n",
    "        # RGB Image tensor as input\n",
    "        self.selectTrackFeatures, self.linear_input_size = make_conv2d_layer(width, height)\n",
    "        self.fc1 = make_linear_layer(self.linear_input_size + pose_size + action_size, 1)\n",
    "    \n",
    "    def forward(self, state_and_action):\n",
    "        state = state_and_action[0]\n",
    "        occupancy_vector = self.selectTrackFeatures(state[0])\n",
    "        x = torch.cat((occupancy_vector, state[1], state_and_action[1]), axis=-1)\n",
    "        return self.fc1(x)\n",
    "\n",
    "q_func1 = QFunction(obs_map_shape[1], obs_map_shape[2], obs_pose_size, action_size)\n",
    "q_func2 = QFunction(obs_map_shape[1], obs_map_shape[2], obs_pose_size, action_size)\n",
    "q_func1_optimizer = torch.optim.Adam(q_func1.parameters(), lr=3e-4)\n",
    "q_func2_optimizer = torch.optim.Adam(q_func2.parameters(), lr=3e-4)"
   ]
  },
  {
   "cell_type": "code",
   "execution_count": 23,
   "id": "coupled-store",
   "metadata": {},
   "outputs": [],
   "source": [
    "rbuf = pfrl.replay_buffers.ReplayBuffer(10 ** 6)"
   ]
  },
  {
   "cell_type": "code",
   "execution_count": 24,
   "id": "monetary-measure",
   "metadata": {},
   "outputs": [],
   "source": [
    "def burnin_action_func():\n",
    "    \"\"\"Select random actions until model is updated one or more times.\"\"\"\n",
    "    return np.random.uniform(action_space.low, action_space.high).astype(np.float32)"
   ]
  },
  {
   "cell_type": "code",
   "execution_count": 25,
   "id": "romance-destruction",
   "metadata": {},
   "outputs": [],
   "source": [
    "gamma = 0.99\n",
    "replay_start_size = 10000\n",
    "gpu = -1\n",
    "batch_size = 256\n",
    "entropy_target = -action_size\n",
    "temperature_optimizer_lr = 3e-4\n",
    "\n",
    "agent = pfrl.agents.SoftActorCritic(\n",
    "    policy,\n",
    "    q_func1,\n",
    "    q_func2,\n",
    "    policy_optimizer,\n",
    "    q_func1_optimizer,\n",
    "    q_func2_optimizer,\n",
    "    rbuf,\n",
    "    gamma=gamma,\n",
    "    replay_start_size=replay_start_size,\n",
    "    gpu=gpu,\n",
    "    minibatch_size=batch_size,\n",
    "    burnin_action_func=burnin_action_func,\n",
    "    entropy_target=entropy_target,\n",
    "    temperature_optimizer_lr=temperature_optimizer_lr,\n",
    ")"
   ]
  },
  {
   "cell_type": "code",
   "execution_count": null,
   "id": "enabling-generator",
   "metadata": {
    "scrolled": true,
    "tags": []
   },
   "outputs": [
    {
     "name": "stdout",
     "output_type": "stream",
     "text": [
      "Resetting env... [room: False, pose: True]\n",
      "Resetting env... [room: False, pose: True]\n",
      "Resetting env... [room: False, pose: True]\n",
      "Resetting env... [room: False, pose: True]\n",
      "Resetting env... [room: False, pose: True]\n",
      "Resetting env... [room: False, pose: True]\n",
      "Resetting env... [room: False, pose: True]\n",
      "Resetting env... [room: False, pose: True]\n",
      "Resetting env... [room: False, pose: True]\n",
      "Resetting env... [room: False, pose: True]\n",
      "episode: 10 R: 248.59999999999977 \n",
      "statistics: [('average_q1', nan), ('average_q2', nan), ('average_q_func1_loss', nan), ('average_q_func2_loss', nan), ('n_updates', 0), ('average_entropy', nan), ('temperature', 1.0)]\n",
      "Resetting env... [room: False, pose: True]\n",
      "Resetting env... [room: False, pose: True]\n",
      "Resetting env... [room: False, pose: True]\n",
      "Resetting env... [room: False, pose: True]\n",
      "Resetting env... [room: False, pose: True]\n",
      "Resetting env... [room: False, pose: True]\n",
      "Resetting env... [room: False, pose: True]\n",
      "Resetting env... [room: False, pose: True]\n",
      "Resetting env... [room: False, pose: True]\n",
      "Resetting env... [room: False, pose: True]\n",
      "episode: 20 R: 98.35000000000005 \n",
      "statistics: [('average_q1', nan), ('average_q2', nan), ('average_q_func1_loss', nan), ('average_q_func2_loss', nan), ('n_updates', 0), ('average_entropy', nan), ('temperature', 1.0)]\n",
      "Resetting env... [room: False, pose: True]\n",
      "Resetting env... [room: False, pose: True]\n",
      "Resetting env... [room: False, pose: True]\n",
      "Resetting env... [room: False, pose: True]\n",
      "Resetting env... [room: False, pose: True]\n",
      "Resetting env... [room: False, pose: True]\n",
      "Resetting env... [room: False, pose: True]\n",
      "Resetting env... [room: False, pose: True]\n",
      "Resetting env... [room: False, pose: True]\n",
      "Resetting env... [room: False, pose: True]\n",
      "episode: 30 R: -2.1000000000000005 \n",
      "statistics: [('average_q1', nan), ('average_q2', nan), ('average_q_func1_loss', nan), ('average_q_func2_loss', nan), ('n_updates', 0), ('average_entropy', nan), ('temperature', 1.0)]\n",
      "Resetting env... [room: False, pose: True]\n",
      "Resetting env... [room: False, pose: True]\n",
      "Resetting env... [room: False, pose: True]\n",
      "Resetting env... [room: False, pose: True]\n",
      "Resetting env... [room: False, pose: True]\n",
      "Resetting env... [room: False, pose: True]\n",
      "Resetting env... [room: False, pose: True]\n",
      "Resetting env... [room: False, pose: True]\n",
      "Resetting env... [room: False, pose: True]\n",
      "Resetting env... [room: False, pose: True]\n",
      "episode: 40 R: 97.95000000000009 \n",
      "statistics: [('average_q1', nan), ('average_q2', nan), ('average_q_func1_loss', nan), ('average_q_func2_loss', nan), ('n_updates', 0), ('average_entropy', nan), ('temperature', 1.0)]\n",
      "Resetting env... [room: False, pose: True]\n",
      "Resetting env... [room: False, pose: True]\n",
      "Resetting env... [room: False, pose: True]\n",
      "Resetting env... [room: False, pose: True]\n",
      "Resetting env... [room: False, pose: True]\n",
      "Resetting env... [room: False, pose: True]\n",
      "Resetting env... [room: False, pose: True]\n",
      "Resetting env... [room: False, pose: True]\n",
      "Resetting env... [room: False, pose: True]\n",
      "Resetting env... [room: False, pose: True]\n",
      "episode: 50 R: 48.65000000000007 \n",
      "statistics: [('average_q1', nan), ('average_q2', nan), ('average_q_func1_loss', nan), ('average_q_func2_loss', nan), ('n_updates', 0), ('average_entropy', nan), ('temperature', 1.0)]\n",
      "Resetting env... [room: False, pose: True]\n",
      "Resetting env... [room: False, pose: True]\n",
      "Resetting env... [room: False, pose: True]\n",
      "Resetting env... [room: False, pose: True]\n",
      "Resetting env... [room: False, pose: True]\n",
      "Resetting env... [room: False, pose: True]\n",
      "Resetting env... [room: False, pose: True]\n",
      "Resetting env... [room: False, pose: True]\n",
      "Resetting env... [room: False, pose: True]\n",
      "Resetting env... [room: False, pose: True]\n",
      "episode: 60 R: 47.65000000000012 \n",
      "statistics: [('average_q1', nan), ('average_q2', nan), ('average_q_func1_loss', nan), ('average_q_func2_loss', nan), ('n_updates', 0), ('average_entropy', nan), ('temperature', 1.0)]\n",
      "Resetting env... [room: False, pose: True]\n",
      "Resetting env... [room: False, pose: True]\n",
      "Resetting env... [room: False, pose: True]\n",
      "Resetting env... [room: False, pose: True]\n",
      "Resetting env... [room: False, pose: True]\n",
      "Resetting env... [room: False, pose: True]\n"
     ]
    }
   ],
   "source": [
    "import logging\n",
    "logger = logging.getLogger()\n",
    "logger.setLevel(logging.DEBUG)\n",
    "logging.info(\"Start training\")\n",
    "\n",
    "n_episodes = 1000\n",
    "max_episode_len = 50\n",
    "eval_step = 10\n",
    "total_R = 0\n",
    "\n",
    "for i in range(1, n_episodes + 1):\n",
    "    obs = env.reset(new_room=False, new_agent_pose=True)\n",
    "    R = 0  # return (sum of rewards)\n",
    "    t = 0  # time step\n",
    "    while True:\n",
    "        # Uncomment to watch the behavior in a GUI window\n",
    "        # env.render()\n",
    "        action = agent.act(obs)\n",
    "        obs, reward, done, _ = env.step(action)\n",
    "        R += reward\n",
    "        t += 1\n",
    "        reset = t == max_episode_len\n",
    "        agent.observe(obs, reward, done, reset)\n",
    "        # print(f\"action: {action}, reward: {reward}\")\n",
    "        if done or reset:\n",
    "            break\n",
    "            \n",
    "    total_R += R\n",
    "    if i % eval_step == 0:\n",
    "        logger.info('episode:', i, 'R_mean:', total_R/eval_step, '\\nstatistics:', agent.get_statistics())\n",
    "        total_R = 0\n",
    "\n",
    "logger.info('Finished')"
   ]
  },
  {
   "cell_type": "code",
   "execution_count": 32,
   "id": "6cbc6f10-4d8b-493e-8be6-d1b7944b9f1a",
   "metadata": {},
   "outputs": [
    {
     "name": "stdout",
     "output_type": "stream",
     "text": [
      "traind steps: 13450\n"
     ]
    }
   ],
   "source": [
    "print(f'traind steps: {i*max_episode_len}')"
   ]
  },
  {
   "cell_type": "markdown",
   "id": "d5c0bf8e-a74e-49ad-92a2-06f806f541d9",
   "metadata": {},
   "source": [
    "## Kensyo"
   ]
  },
  {
   "cell_type": "code",
   "execution_count": 123,
   "id": "66966f11-1ec3-44c5-ad2f-8931770da6dd",
   "metadata": {},
   "outputs": [],
   "source": [
    "import logging\n",
    "logger = logging.getLogger()\n",
    "logger.setLevel(logging.DEBUG)\n",
    "\n",
    "eval_count = 40\n",
    "target_pose = env.target_pose # (n,3)\n",
    "obs_map_size = env.observation_space[0].low.size\n",
    "obs_map_len = int(np.sqrt(obs_map_size))"
   ]
  },
  {
   "cell_type": "code",
   "execution_count": 57,
   "id": "4a4b3e24-a52b-41e1-ac1f-04cc8a6f697b",
   "metadata": {},
   "outputs": [
    {
     "data": {
      "text/plain": [
       "128"
      ]
     },
     "execution_count": 57,
     "metadata": {},
     "output_type": "execute_result"
    }
   ],
   "source": [
    "obs_map_len"
   ]
  },
  {
   "cell_type": "markdown",
   "id": "66a44ae3-86ca-429b-985a-065cc74393e6",
   "metadata": {},
   "source": [
    "### Random Policy"
   ]
  },
  {
   "cell_type": "code",
   "execution_count": null,
   "id": "b318e766-2aee-44b8-b323-88b2fc581fcf",
   "metadata": {},
   "outputs": [
    {
     "name": "stdout",
     "output_type": "stream",
     "text": [
      "Resetting env... [room: False, pose: True]\n",
      "Resetting env... [room: False, pose: True]\n",
      "Resetting env... [room: False, pose: True]\n"
     ]
    }
   ],
   "source": [
    "logging.info(\"Start evaluating random policy.\")\n",
    "\n",
    "rewards = np.zeros([eval_count, max_episode_len])\n",
    "founds = np.zeros([eval_count, env.target_num])\n",
    "states = []\n",
    "agent_trajectories = np.zeros([eval_count, max_episode_len, 3])\n",
    "goal_trajectories = np.zeros([eval_count, max_episode_len, 3])\n",
    "start_agent_poses = np.zeros([eval_count, 3])\n",
    "start_maps = np.zeros([eval_count, obs_map_len, obs_map_len])\n",
    "\n",
    "for e in range(eval_count):\n",
    "    obs = env.reset(new_room=False, new_agent_pose=True)\n",
    "    start_agent_poses[e] = env.agent_pose\n",
    "    start_maps[e] = obs[0]\n",
    "    done = False\n",
    "    step = 0\n",
    "    while (not done) and (step < max_episode_len):\n",
    "        action = env.action_space.sample()\n",
    "        obs, r, done, _ = env.step(action)\n",
    "        states.append(obs)\n",
    "        rewards[e,step] = r\n",
    "        agent_trajectories[e,step] = env.agent_pose\n",
    "        goal_trajectories[e,step] = env.goal_pose\n",
    "        step += 1\n",
    "        \n",
    "    founds[e] = env.target_found\n",
    "            "
   ]
  },
  {
   "cell_type": "code",
   "execution_count": 75,
   "id": "01a3a5ab-643f-4aca-ac1e-fa988500e325",
   "metadata": {
    "tags": []
   },
   "outputs": [
    {
     "name": "stdout",
     "output_type": "stream",
     "text": [
      "target found probability: [0.15, 0.55, 0.175, 0.15, 0.175, 0.075, 0.0, 0.325, 0.0, 0.375, 0.15]\n",
      "total reward mean: 104.47124999999998\n"
     ]
    }
   ],
   "source": [
    "found_probs = [np.sum(founds[:,f])/eval_count for f in range(len(founds[0]))]\n",
    "total_reward_mean = sum([np.sum(rewards[i]) for i in range(eval_count)]) / eval_count\n",
    "\n",
    "print(f'target found probability: {found_probs}')\n",
    "print(f'total reward mean: {total_reward_mean}')"
   ]
  },
  {
   "cell_type": "code",
   "execution_count": 193,
   "id": "fac2c28a-38a0-4825-8739-b41abb46fdac",
   "metadata": {
    "tags": []
   },
   "outputs": [
    {
     "data": {
      "text/plain": [
       "<matplotlib.legend.Legend at 0x7fe454c7ba60>"
      ]
     },
     "execution_count": 193,
     "metadata": {},
     "output_type": "execute_result"
    },
    {
     "data": {
      "image/png": "[encoded data removed]",
      "text/plain": [
       "<Figure size 1440x720 with 2 Axes>"
      ]
     },
     "metadata": {
      "needs_background": "light"
     },
     "output_type": "display_data"
    }
   ],
   "source": [
    "import matplotlib.pyplot as plt\n",
    "\n",
    "plt.figure(figsize=(12, 6), dpi=120)\n",
    "\n",
    "plt.subplot(1,2,1)\n",
    "plt.grid(True)\n",
    "plt.scatter(goal_trajectories[:,:,0], goal_trajectories[:,:,1], marker='+', alpha=0.3, linewidths=1, label='goal')\n",
    "plt.scatter(agent_trajectories[:,:,0], agent_trajectories[:,:,1], marker='+', alpha=0.3, linewidths=1,  label='agent')\n",
    "plt.scatter(target_pose[:,0], target_pose[:,1], c='red', marker='*', label='target')\n",
    "plt.legend()\n",
    "\n",
    "plt.subplot(1,2,2)\n",
    "plt.grid(True)\n",
    "plt.scatter(start_agent_poses[:,0], start_agent_poses[:,1], c='green', marker='+', label='start pose')\n",
    "plt.scatter(target_pose[:,0], target_pose[:,1], c='red', marker='*', label='target')\n",
    "plt.legend()"
   ]
  },
  {
   "cell_type": "markdown",
   "id": "9adb548d-298b-4c56-b87b-cc1b6d36b025",
   "metadata": {},
   "source": [
    "### Trained Policy"
   ]
  },
  {
   "cell_type": "code",
   "execution_count": 128,
   "id": "c0aefb39-4aad-4b5d-bafd-4e16feefb971",
   "metadata": {
    "scrolled": true,
    "tags": []
   },
   "outputs": [
    {
     "name": "stderr",
     "output_type": "stream",
     "text": [
      "INFO:root:Start evaluating traind policy.\n"
     ]
    },
    {
     "name": "stdout",
     "output_type": "stream",
     "text": [
      "Resetting env... [room: False, pose: True]\n"
     ]
    },
    {
     "name": "stderr",
     "output_type": "stream",
     "text": [
      "INFO:root:current episode's total reward: -2.4999999999999996\n"
     ]
    },
    {
     "name": "stdout",
     "output_type": "stream",
     "text": [
      "Resetting env... [room: False, pose: True]\n"
     ]
    },
    {
     "name": "stderr",
     "output_type": "stream",
     "text": [
      "INFO:root:current episode's total reward: -2.4999999999999996\n"
     ]
    },
    {
     "name": "stdout",
     "output_type": "stream",
     "text": [
      "Resetting env... [room: False, pose: True]\n"
     ]
    },
    {
     "name": "stderr",
     "output_type": "stream",
     "text": [
      "INFO:root:current episode's total reward: -2.4999999999999996\n"
     ]
    },
    {
     "name": "stdout",
     "output_type": "stream",
     "text": [
      "Resetting env... [room: False, pose: True]\n"
     ]
    },
    {
     "name": "stderr",
     "output_type": "stream",
     "text": [
      "INFO:root:current episode's total reward: -2.4999999999999996\n"
     ]
    },
    {
     "name": "stdout",
     "output_type": "stream",
     "text": [
      "Resetting env... [room: False, pose: True]\n"
     ]
    },
    {
     "name": "stderr",
     "output_type": "stream",
     "text": [
      "INFO:root:current episode's total reward: -2.4999999999999996\n"
     ]
    },
    {
     "name": "stdout",
     "output_type": "stream",
     "text": [
      "Resetting env... [room: False, pose: True]\n"
     ]
    },
    {
     "name": "stderr",
     "output_type": "stream",
     "text": [
      "INFO:root:current episode's total reward: -2.4999999999999996\n"
     ]
    },
    {
     "name": "stdout",
     "output_type": "stream",
     "text": [
      "Resetting env... [room: False, pose: True]\n"
     ]
    },
    {
     "name": "stderr",
     "output_type": "stream",
     "text": [
      "INFO:root:current episode's total reward: -2.4999999999999996\n"
     ]
    },
    {
     "name": "stdout",
     "output_type": "stream",
     "text": [
      "Resetting env... [room: False, pose: True]\n"
     ]
    },
    {
     "name": "stderr",
     "output_type": "stream",
     "text": [
      "INFO:root:current episode's total reward: -2.4999999999999996\n"
     ]
    },
    {
     "name": "stdout",
     "output_type": "stream",
     "text": [
      "Resetting env... [room: False, pose: True]\n"
     ]
    },
    {
     "name": "stderr",
     "output_type": "stream",
     "text": [
      "INFO:root:current episode's total reward: -2.4999999999999996\n"
     ]
    },
    {
     "name": "stdout",
     "output_type": "stream",
     "text": [
      "Resetting env... [room: False, pose: True]\n"
     ]
    },
    {
     "name": "stderr",
     "output_type": "stream",
     "text": [
      "INFO:root:current episode's total reward: -2.4999999999999996\n"
     ]
    },
    {
     "name": "stdout",
     "output_type": "stream",
     "text": [
      "Resetting env... [room: False, pose: True]\n"
     ]
    },
    {
     "name": "stderr",
     "output_type": "stream",
     "text": [
      "INFO:root:current episode's total reward: 47.550000000000026\n"
     ]
    },
    {
     "name": "stdout",
     "output_type": "stream",
     "text": [
      "Resetting env... [room: False, pose: True]\n"
     ]
    },
    {
     "name": "stderr",
     "output_type": "stream",
     "text": [
      "INFO:root:current episode's total reward: -2.4999999999999996\n"
     ]
    },
    {
     "name": "stdout",
     "output_type": "stream",
     "text": [
      "Resetting env... [room: False, pose: True]\n"
     ]
    },
    {
     "name": "stderr",
     "output_type": "stream",
     "text": [
      "INFO:root:current episode's total reward: -2.4999999999999996\n"
     ]
    },
    {
     "name": "stdout",
     "output_type": "stream",
     "text": [
      "Resetting env... [room: False, pose: True]\n"
     ]
    },
    {
     "name": "stderr",
     "output_type": "stream",
     "text": [
      "INFO:root:current episode's total reward: -2.4999999999999996\n"
     ]
    },
    {
     "name": "stdout",
     "output_type": "stream",
     "text": [
      "Resetting env... [room: False, pose: True]\n"
     ]
    },
    {
     "name": "stderr",
     "output_type": "stream",
     "text": [
      "INFO:root:current episode's total reward: 97.85000000000004\n"
     ]
    },
    {
     "name": "stdout",
     "output_type": "stream",
     "text": [
      "Resetting env... [room: False, pose: True]\n"
     ]
    },
    {
     "name": "stderr",
     "output_type": "stream",
     "text": [
      "INFO:root:current episode's total reward: -2.2499999999999996\n"
     ]
    },
    {
     "name": "stdout",
     "output_type": "stream",
     "text": [
      "Resetting env... [room: False, pose: True]\n"
     ]
    },
    {
     "name": "stderr",
     "output_type": "stream",
     "text": [
      "INFO:root:current episode's total reward: -2.4999999999999996\n"
     ]
    },
    {
     "name": "stdout",
     "output_type": "stream",
     "text": [
      "Resetting env... [room: False, pose: True]\n"
     ]
    },
    {
     "name": "stderr",
     "output_type": "stream",
     "text": [
      "INFO:root:current episode's total reward: -2.4999999999999996\n"
     ]
    },
    {
     "name": "stdout",
     "output_type": "stream",
     "text": [
      "Resetting env... [room: False, pose: True]\n"
     ]
    },
    {
     "name": "stderr",
     "output_type": "stream",
     "text": [
      "INFO:root:current episode's total reward: -2.3499999999999996\n"
     ]
    },
    {
     "name": "stdout",
     "output_type": "stream",
     "text": [
      "Resetting env... [room: False, pose: True]\n"
     ]
    },
    {
     "name": "stderr",
     "output_type": "stream",
     "text": [
      "INFO:root:current episode's total reward: 98.00000000000003\n"
     ]
    },
    {
     "name": "stdout",
     "output_type": "stream",
     "text": [
      "Resetting env... [room: False, pose: True]\n"
     ]
    },
    {
     "name": "stderr",
     "output_type": "stream",
     "text": [
      "INFO:root:current episode's total reward: 47.80000000000002\n"
     ]
    },
    {
     "name": "stdout",
     "output_type": "stream",
     "text": [
      "Resetting env... [room: False, pose: True]\n"
     ]
    },
    {
     "name": "stderr",
     "output_type": "stream",
     "text": [
      "INFO:root:current episode's total reward: -2.4999999999999996\n"
     ]
    },
    {
     "name": "stdout",
     "output_type": "stream",
     "text": [
      "Resetting env... [room: False, pose: True]\n"
     ]
    },
    {
     "name": "stderr",
     "output_type": "stream",
     "text": [
      "INFO:root:current episode's total reward: -2.4999999999999996\n"
     ]
    },
    {
     "name": "stdout",
     "output_type": "stream",
     "text": [
      "Resetting env... [room: False, pose: True]\n"
     ]
    },
    {
     "name": "stderr",
     "output_type": "stream",
     "text": [
      "INFO:root:current episode's total reward: -2.4499999999999993\n"
     ]
    },
    {
     "name": "stdout",
     "output_type": "stream",
     "text": [
      "Resetting env... [room: False, pose: True]\n"
     ]
    },
    {
     "name": "stderr",
     "output_type": "stream",
     "text": [
      "INFO:root:current episode's total reward: -2.4999999999999996\n"
     ]
    },
    {
     "name": "stdout",
     "output_type": "stream",
     "text": [
      "Resetting env... [room: False, pose: True]\n"
     ]
    },
    {
     "name": "stderr",
     "output_type": "stream",
     "text": [
      "INFO:root:current episode's total reward: -2.4999999999999996\n"
     ]
    },
    {
     "name": "stdout",
     "output_type": "stream",
     "text": [
      "Resetting env... [room: False, pose: True]\n"
     ]
    },
    {
     "name": "stderr",
     "output_type": "stream",
     "text": [
      "INFO:root:current episode's total reward: -2.4999999999999996\n"
     ]
    },
    {
     "name": "stdout",
     "output_type": "stream",
     "text": [
      "Resetting env... [room: False, pose: True]\n"
     ]
    },
    {
     "name": "stderr",
     "output_type": "stream",
     "text": [
      "INFO:root:current episode's total reward: 97.65000000000003\n"
     ]
    },
    {
     "name": "stdout",
     "output_type": "stream",
     "text": [
      "Resetting env... [room: False, pose: True]\n"
     ]
    },
    {
     "name": "stderr",
     "output_type": "stream",
     "text": [
      "INFO:root:current episode's total reward: -2.4499999999999993\n"
     ]
    },
    {
     "name": "stdout",
     "output_type": "stream",
     "text": [
      "Resetting env... [room: False, pose: True]\n"
     ]
    },
    {
     "name": "stderr",
     "output_type": "stream",
     "text": [
      "INFO:root:current episode's total reward: 47.50000000000002\n"
     ]
    },
    {
     "name": "stdout",
     "output_type": "stream",
     "text": [
      "Resetting env... [room: False, pose: True]\n"
     ]
    },
    {
     "name": "stderr",
     "output_type": "stream",
     "text": [
      "INFO:root:current episode's total reward: -2.4499999999999993\n"
     ]
    },
    {
     "name": "stdout",
     "output_type": "stream",
     "text": [
      "Resetting env... [room: False, pose: True]\n"
     ]
    },
    {
     "name": "stderr",
     "output_type": "stream",
     "text": [
      "INFO:root:current episode's total reward: -2.4999999999999996\n"
     ]
    },
    {
     "name": "stdout",
     "output_type": "stream",
     "text": [
      "Resetting env... [room: False, pose: True]\n"
     ]
    },
    {
     "name": "stderr",
     "output_type": "stream",
     "text": [
      "INFO:root:current episode's total reward: -2.4999999999999996\n"
     ]
    },
    {
     "name": "stdout",
     "output_type": "stream",
     "text": [
      "Resetting env... [room: False, pose: True]\n"
     ]
    },
    {
     "name": "stderr",
     "output_type": "stream",
     "text": [
      "INFO:root:current episode's total reward: -2.4999999999999996\n"
     ]
    },
    {
     "name": "stdout",
     "output_type": "stream",
     "text": [
      "Resetting env... [room: False, pose: True]\n"
     ]
    },
    {
     "name": "stderr",
     "output_type": "stream",
     "text": [
      "INFO:root:current episode's total reward: -2.05\n"
     ]
    },
    {
     "name": "stdout",
     "output_type": "stream",
     "text": [
      "Resetting env... [room: False, pose: True]\n"
     ]
    },
    {
     "name": "stderr",
     "output_type": "stream",
     "text": [
      "INFO:root:current episode's total reward: 47.50000000000002\n"
     ]
    },
    {
     "name": "stdout",
     "output_type": "stream",
     "text": [
      "Resetting env... [room: False, pose: True]\n"
     ]
    },
    {
     "name": "stderr",
     "output_type": "stream",
     "text": [
      "INFO:root:current episode's total reward: -2.4999999999999996\n"
     ]
    },
    {
     "name": "stdout",
     "output_type": "stream",
     "text": [
      "Resetting env... [room: False, pose: True]\n"
     ]
    },
    {
     "name": "stderr",
     "output_type": "stream",
     "text": [
      "INFO:root:current episode's total reward: -2.3\n"
     ]
    },
    {
     "name": "stdout",
     "output_type": "stream",
     "text": [
      "Resetting env... [room: False, pose: True]\n"
     ]
    },
    {
     "name": "stderr",
     "output_type": "stream",
     "text": [
      "INFO:root:current episode's total reward: -2.4499999999999993\n"
     ]
    },
    {
     "name": "stdout",
     "output_type": "stream",
     "text": [
      "Resetting env... [room: False, pose: True]\n"
     ]
    },
    {
     "name": "stderr",
     "output_type": "stream",
     "text": [
      "INFO:root:current episode's total reward: -2.4999999999999996\n"
     ]
    }
   ],
   "source": [
    "logging.info(\"Start evaluating traind policy.\")\n",
    "\n",
    "t_rewards = np.zeros([eval_count, max_episode_len])\n",
    "t_founds = np.zeros([eval_count, env.target_num])\n",
    "t_states = []\n",
    "t_agent_trajectories = np.zeros([eval_count, max_episode_len, 3])\n",
    "t_goal_trajectories = np.zeros([eval_count, max_episode_len, 3])\n",
    "t_start_agent_poses = np.zeros([eval_count, 3])\n",
    "t_start_maps = np.zeros([eval_count, obs_map_len, obs_map_len])\n",
    "\n",
    "with agent.eval_mode():\n",
    "    for e in range(eval_count):\n",
    "        obs = env.reset(new_room=False, new_agent_pose=True)\n",
    "        t_start_agent_poses[e] = env.agent_pose\n",
    "        t_start_maps[e] = obs[0]\n",
    "        done = False\n",
    "        step = 0\n",
    "        while (not done) and (step < max_episode_len):\n",
    "            action = agent.act(obs)\n",
    "            obs, r, done, _ = env.step(action)\n",
    "            t_states.append(obs)\n",
    "            t_rewards[e,step] = r\n",
    "            t_agent_trajectories[e,step] = env.agent_pose\n",
    "            t_goal_trajectories[e,step] = env.goal_pose\n",
    "            step += 1\n",
    "            \n",
    "        logging.info(f'current episode\\'s total reward: {np.sum(t_rewards[e])}')\n",
    "        t_founds[e] = env.target_found"
   ]
  },
  {
   "cell_type": "code",
   "execution_count": 130,
   "id": "7b6e659a-fcc1-4391-b69e-4be169a0a46b",
   "metadata": {},
   "outputs": [
    {
     "name": "stdout",
     "output_type": "stream",
     "text": [
      "target found probability: [0.0, 0.025, 0.025, 0.0, 0.025, 0.0, 0.0, 0.05, 0.0, 0.1, 0.025]\n",
      "total reward mean: 10.065000000000005\n"
     ]
    }
   ],
   "source": [
    "t_found_probs = [np.sum(t_founds[:,f])/eval_count for f in range(len(t_founds[0]))]\n",
    "t_total_reward_mean = sum([np.sum(t_rewards[i]) for i in range(eval_count)]) / eval_count\n",
    "\n",
    "print(f'target found probability: {t_found_probs}')\n",
    "print(f'total reward mean: {t_total_reward_mean}')"
   ]
  },
  {
   "cell_type": "code",
   "execution_count": 192,
   "id": "a87bdc48-6eda-4922-a998-c58ae61d1ab4",
   "metadata": {},
   "outputs": [
    {
     "data": {
      "text/plain": [
       "<matplotlib.legend.Legend at 0x7fe454d3bac0>"
      ]
     },
     "execution_count": 192,
     "metadata": {},
     "output_type": "execute_result"
    },
    {
     "data": {
      "image/png": "[encoded data removed]",
      "text/plain": [
       "<Figure size 1440x720 with 2 Axes>"
      ]
     },
     "metadata": {
      "needs_background": "light"
     },
     "output_type": "display_data"
    }
   ],
   "source": [
    "import matplotlib.pyplot as plt\n",
    "\n",
    "plt.figure(figsize=(12, 6), dpi=120)\n",
    "\n",
    "plt.subplot(1,2,1)\n",
    "plt.grid(True)\n",
    "plt.scatter(t_goal_trajectories[:,:,0], t_goal_trajectories[:,:,1], marker='+', alpha=0.3, linewidths=1, label='goal')\n",
    "plt.scatter(t_agent_trajectories[:,:,0], t_agent_trajectories[:,:,1], marker='+', alpha=0.3, linewidths=1,  label='agent')\n",
    "plt.scatter(target_pose[:,0], target_pose[:,1], c='red', marker='*', label='target')\n",
    "plt.legend()\n",
    "\n",
    "plt.subplot(1,2,2)\n",
    "plt.grid(True)\n",
    "plt.scatter(t_start_agent_poses[:,0], t_start_agent_poses[:,1], c='green', marker='+', label='start pose')\n",
    "plt.scatter(target_pose[:,0], target_pose[:,1], c='red', marker='*', label='target')\n",
    "plt.legend()"
   ]
  },
  {
   "cell_type": "code",
   "execution_count": null,
   "id": "06c5a174-540f-404e-821d-b123612b9e98",
   "metadata": {},
   "outputs": [],
   "source": []
  }
 ],
 "metadata": {
  "kernelspec": {
   "display_name": "Python 3",
   "language": "python",
   "name": "python3"
  },
  "language_info": {
   "codemirror_mode": {
    "name": "ipython",
    "version": 3
   },
   "file_extension": ".py",
   "mimetype": "text/x-python",
   "name": "python",
   "nbconvert_exporter": "python",
   "pygments_lexer": "ipython3",
   "version": "3.9.5"
  }
 },
 "nbformat": 4,
 "nbformat_minor": 5
}
