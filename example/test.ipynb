{
 "cells": [
  {
   "cell_type": "code",
   "execution_count": 8,
   "id": "c0f5dbb6",
   "metadata": {},
   "outputs": [],
   "source": [
    "import gym\r\n",
    "import robo_gym\r\n",
    "from robo_gym.wrappers.exception_handling import ExceptionHandling\r\n",
    "import numpy as np"
   ]
  },
  {
   "cell_type": "code",
   "execution_count": 9,
   "id": "0518279a-140f-4f24-91f7-aca3e1f345dd",
   "metadata": {},
   "outputs": [
    {
     "name": "stdout",
     "output_type": "stream",
     "text": [
      "Starting new Robot Server | Tentative 1 of 10\n",
      "Successfully started Robot Server at robot-server:54321\n",
      "Resetting env... [room: True, pose: True]\n"
     ]
    },
    {
     "data": {
      "text/plain": [
       "array([[-1., -1., -1., ..., -1., -1., -1.],\n",
       "       [-1., -1., -1., ..., -1., -1., -1.],\n",
       "       [-1., -1., -1., ..., -1., -1., -1.],\n",
       "       ...,\n",
       "       [-1., -1., -1., ..., -1., -1., -1.],\n",
       "       [-1., -1., -1., ..., -1., -1., -1.],\n",
       "       [-1., -1., -1., ..., -1., -1., -1.]], dtype=float32)"
      ]
     },
     "execution_count": 9,
     "metadata": {},
     "output_type": "execute_result"
    }
   ],
   "source": [
    "target_machine_ip = 'robot-server' # or other machine 'xxx.xxx.xxx.xxx'\n",
    "\n",
    "# initialize environment\n",
    "env = gym.make('CubeSearchInCubeRoomObsMapOnly-v0', ip=target_machine_ip, gui=True, gazebo_gui=True)\n",
    "\n",
    "env = ExceptionHandling(env)\n",
    "state = env.reset(new_room=True, new_agent_pose=True)\n",
    "state"
   ]
  },
  {
   "cell_type": "code",
   "execution_count": 35,
   "id": "4fc4829c",
   "metadata": {},
   "outputs": [
    {
     "name": "stdout",
     "output_type": "stream",
     "text": [
      "Resetting env... [room: False, pose: True]\n"
     ]
    },
    {
     "data": {
      "text/plain": [
       "(array([-1.43229878, -1.90751445,  1.92218566]),\n",
       " array([-1.43229878, -1.90751445,  1.92218566]))"
      ]
     },
     "execution_count": 35,
     "metadata": {},
     "output_type": "execute_result"
    }
   ],
   "source": [
    "state = env.reset(new_room=False, new_agent_pose=True)\n",
    "env.start_frame, env.agent_pose"
   ]
  },
  {
   "cell_type": "code",
   "execution_count": 41,
   "id": "a216c27d-2418-4758-be51-7c516c7fffc1",
   "metadata": {},
   "outputs": [
    {
     "name": "stdout",
     "output_type": "stream",
     "text": [
      "[0.5, -0.5, -0.25]\n",
      "[-1.2637193202972412, 0.018953874707221985, 0.8226807117462158] [-1.43229878 -1.90751445  1.92218566]\n"
     ]
    }
   ],
   "source": [
    "action = [0.5,-0.5,-0.25]\n",
    "print(action)\n",
    "state, r, done, info = env.step(action)\n",
    "print(env.agent_pose, env.start_frame)"
   ]
  },
  {
   "cell_type": "code",
   "execution_count": 67,
   "id": "f5c054d9",
   "metadata": {},
   "outputs": [
    {
     "name": "stdout",
     "output_type": "stream",
     "text": [
      "[ 0.63789755  0.15505403 -0.31844816]\n",
      "[2.5268914699554443, 0.7008918523788452, -0.6114143133163452] [ 2.52271485  0.70504498 -0.2877416 ]\n"
     ]
    }
   ],
   "source": [
    "action = env.action_space.sample()\r\n",
    "print(action)\r\n",
    "state, r, done, info = env.step(action)\r\n",
    "print(env.agent_pose, env.start_frame)"
   ]
  },
  {
   "cell_type": "code",
   "execution_count": 42,
   "id": "86aa3790",
   "metadata": {},
   "outputs": [
    {
     "data": {
      "text/plain": [
       "<matplotlib.image.AxesImage at 0x7fdcbb392e80>"
      ]
     },
     "execution_count": 42,
     "metadata": {},
     "output_type": "execute_result"
    },
    {
     "data": {
      "image/png": "[encoded data removed]",
      "text/plain": [
       "<Figure size 1000x1000 with 1 Axes>"
      ]
     },
     "metadata": {
      "needs_background": "light"
     },
     "output_type": "display_data"
    }
   ],
   "source": [
    "import matplotlib.pyplot as plt\r\n",
    "half = len(state)//2\r\n",
    "state[half, half] = 50\r\n",
    "plt.figure(figsize=(10,10),dpi=100)\r\n",
    "plt.imshow(state)"
   ]
  },
  {
   "cell_type": "code",
   "execution_count": 16,
   "id": "855c8bac",
   "metadata": {},
   "outputs": [
    {
     "data": {
      "text/plain": [
       "[-1.3425002098083496, 1.0932960510253906, 1.1802284717559814]"
      ]
     },
     "execution_count": 16,
     "metadata": {},
     "output_type": "execute_result"
    }
   ],
   "source": [
    "env.rss_manager.get_from_rs_state(env.client.get_state_msg().state, 'agent_pose')"
   ]
  },
  {
   "cell_type": "code",
   "execution_count": 78,
   "id": "29017619",
   "metadata": {},
   "outputs": [
    {
     "data": {
      "text/plain": [
       "array([1.91954696, 0.70107824, 2.19014287])"
      ]
     },
     "execution_count": 78,
     "metadata": {},
     "output_type": "execute_result"
    }
   ],
   "source": [
    "env.start_frame"
   ]
  },
  {
   "cell_type": "code",
   "execution_count": 6,
   "id": "cbcc3cb0-46b6-4deb-83a3-7bca89002209",
   "metadata": {},
   "outputs": [
    {
     "name": "stdout",
     "output_type": "stream",
     "text": [
      "Resetting env... [room: False, pose: False]\n"
     ]
    },
    {
     "data": {
      "text/plain": [
       "(array([ 2.07562613, -0.34875804, -2.27762365]),\n",
       " array([ 2.07562613, -0.34875804, -2.27762365]))"
      ]
     },
     "execution_count": 6,
     "metadata": {},
     "output_type": "execute_result"
    }
   ],
   "source": [
    "state = env.reset(new_room=False, new_agent_pose=False)\n",
    "env.start_frame, env.agent_pose"
   ]
  },
  {
   "cell_type": "code",
   "execution_count": null,
   "id": "231e7452-5295-4bf2-86f0-8411fd824e2d",
   "metadata": {},
   "outputs": [],
   "source": []
  }
 ],
 "metadata": {
  "kernelspec": {
   "display_name": "Python 3 (ipykernel)",
   "language": "python",
   "name": "python3"
  },
  "language_info": {
   "codemirror_mode": {
    "name": "ipython",
    "version": 3
   },
   "file_extension": ".py",
   "mimetype": "text/x-python",
   "name": "python",
   "nbconvert_exporter": "python",
   "pygments_lexer": "ipython3",
   "version": "3.9.5"
  }
 },
 "nbformat": 4,
 "nbformat_minor": 5
}
